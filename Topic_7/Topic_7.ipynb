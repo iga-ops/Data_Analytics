{
 "cells": [
  {
   "cell_type": "markdown",
   "metadata": {},
   "source": [
    "## **Lab 7 - Model comparison**"
   ]
  },
  {
   "cell_type": "code",
   "execution_count": 2,
   "metadata": {},
   "outputs": [],
   "source": [
    "import numpy as np\n",
    "from cmdstanpy import CmdStanModel\n",
    "import matplotlib.pyplot as plt"
   ]
  },
  {
   "cell_type": "markdown",
   "metadata": {},
   "source": [
    "F - number of letters in first name L - number of letters in last name"
   ]
  },
  {
   "cell_type": "code",
   "execution_count": 3,
   "metadata": {},
   "outputs": [],
   "source": [
    "F = 3\n",
    "L = 13\n",
    "N = (L+F)*100"
   ]
  },
  {
   "cell_type": "markdown",
   "metadata": {},
   "source": [
    "#### **Task 1: Generate data**"
   ]
  },
  {
   "cell_type": "markdown",
   "metadata": {},
   "source": [
    "1. Compile code_1.stan and code_2.stan"
   ]
  },
  {
   "cell_type": "code",
   "execution_count": 4,
   "metadata": {},
   "outputs": [
    {
     "name": "stderr",
     "output_type": "stream",
     "text": [
      "INFO:cmdstanpy:compiling stan file C:\\Users\\igach\\Desktop\\Python_folder\\Topic_7 — kopia\\code_1.stan to exe file C:\\Users\\igach\\Desktop\\Python_folder\\Topic_7 — kopia\\code_1.exe\n",
      "INFO:cmdstanpy:compiled model executable: C:\\Users\\igach\\Desktop\\Python_folder\\Topic_7 — kopia\\code_1.exe\n"
     ]
    }
   ],
   "source": [
    "data1 = dict(N = N)\n",
    "data_generator_code1 = CmdStanModel(stan_file = 'code_1.stan')"
   ]
  },
  {
   "cell_type": "code",
   "execution_count": 5,
   "metadata": {},
   "outputs": [
    {
     "name": "stderr",
     "output_type": "stream",
     "text": [
      "INFO:cmdstanpy:CmdStan start processing\n",
      "chain 1 |\u001b[33m          \u001b[0m| 00:00 Status\n",
      "\u001b[A\n",
      "\n",
      "chain 1 |\u001b[34m▉         \u001b[0m| 00:00 Iteration:   1 / 1000 [  0%]  (Sampling)\n",
      "\u001b[A\n",
      "\n",
      "chain 1 |\u001b[34m█▎        \u001b[0m| 00:01 Iteration: 100 / 1000 [ 10%]  (Sampling)\n",
      "\u001b[A\n",
      "\n",
      "chain 1 |\u001b[34m█▊        \u001b[0m| 00:01 Iteration: 200 / 1000 [ 20%]  (Sampling)\n",
      "\u001b[A\n",
      "\n",
      "chain 1 |\u001b[34m██▎       \u001b[0m| 00:02 Iteration: 300 / 1000 [ 30%]  (Sampling)\n",
      "\u001b[A\n",
      "\n",
      "chain 1 |\u001b[34m██▋       \u001b[0m| 00:02 Iteration: 400 / 1000 [ 40%]  (Sampling)\n",
      "\u001b[A\n",
      "\n",
      "chain 1 |\u001b[34m███▏      \u001b[0m| 00:03 Iteration: 500 / 1000 [ 50%]  (Sampling)\n",
      "\u001b[A\n",
      "\n",
      "chain 1 |\u001b[34m███▋      \u001b[0m| 00:03 Iteration: 600 / 1000 [ 60%]  (Sampling)\n",
      "\u001b[A\n",
      "\n",
      "chain 1 |\u001b[34m████      \u001b[0m| 00:04 Iteration: 700 / 1000 [ 70%]  (Sampling)\n",
      "\u001b[A\n",
      "\n",
      "chain 1 |\u001b[34m████▌     \u001b[0m| 00:05 Iteration: 800 / 1000 [ 80%]  (Sampling)\n",
      "\u001b[A\n",
      "\n",
      "chain 1 |\u001b[34m█████     \u001b[0m| 00:05 Iteration: 900 / 1000 [ 90%]  (Sampling)\n",
      "\u001b[A\n",
      "\n",
      "chain 1 |\u001b[34m██████████\u001b[0m| 00:05 Sampling completed                      \n",
      "chain 2 |\u001b[34m██████████\u001b[0m| 00:05 Sampling completed                      \n",
      "chain 3 |\u001b[34m██████████\u001b[0m| 00:05 Sampling completed                      \n",
      "chain 4 |\u001b[34m██████████\u001b[0m| 00:05 Sampling completed                      "
     ]
    },
    {
     "name": "stdout",
     "output_type": "stream",
     "text": [
      "                                                                                                                                                                                                                                                                                                                                "
     ]
    },
    {
     "name": "stderr",
     "output_type": "stream",
     "text": [
      "\n",
      "INFO:cmdstanpy:CmdStan done processing.\n"
     ]
    },
    {
     "name": "stdout",
     "output_type": "stream",
     "text": [
      "\n"
     ]
    }
   ],
   "source": [
    "result_code1 = data_generator_code1.sample(data = data1)"
   ]
  },
  {
   "cell_type": "code",
   "execution_count": 6,
   "metadata": {},
   "outputs": [
    {
     "name": "stderr",
     "output_type": "stream",
     "text": [
      "INFO:cmdstanpy:compiling stan file C:\\Users\\igach\\Desktop\\Python_folder\\Topic_7 — kopia\\code_2.stan to exe file C:\\Users\\igach\\Desktop\\Python_folder\\Topic_7 — kopia\\code_2.exe\n",
      "INFO:cmdstanpy:compiled model executable: C:\\Users\\igach\\Desktop\\Python_folder\\Topic_7 — kopia\\code_2.exe\n",
      "INFO:cmdstanpy:CmdStan start processing\n",
      "chain 1 |\u001b[33m          \u001b[0m| 00:00 Status\n",
      "\u001b[A\n",
      "\n",
      "chain 1 |\u001b[34m▉         \u001b[0m| 00:02 Iteration:   1 / 1000 [  0%]  (Sampling)\n",
      "\u001b[A\n",
      "\n",
      "\u001b[A\u001b[A\n",
      "chain 1 |\u001b[34m█▎        \u001b[0m| 00:04 Iteration: 100 / 1000 [ 10%]  (Sampling)\n",
      "\n",
      "\u001b[A\u001b[A\n",
      "chain 1 |\u001b[34m█▊        \u001b[0m| 00:06 Iteration: 200 / 1000 [ 20%]  (Sampling)\n",
      "\n",
      "chain 1 |\u001b[34m██▎       \u001b[0m| 00:09 Iteration: 300 / 1000 [ 30%]  (Sampling)\n",
      "\u001b[A\n",
      "\n",
      "chain 1 |\u001b[34m██▋       \u001b[0m| 00:11 Iteration: 400 / 1000 [ 40%]  (Sampling)\n",
      "\u001b[A\n",
      "\n",
      "\u001b[A\u001b[A\n",
      "chain 1 |\u001b[34m███▏      \u001b[0m| 00:14 Iteration: 500 / 1000 [ 50%]  (Sampling)\n",
      "\n",
      "chain 1 |\u001b[34m███▋      \u001b[0m| 00:16 Iteration: 600 / 1000 [ 60%]  (Sampling)\n",
      "\u001b[A\n",
      "\n",
      "chain 1 |\u001b[34m████      \u001b[0m| 00:19 Iteration: 700 / 1000 [ 70%]  (Sampling)\n",
      "\u001b[A\n",
      "\n",
      "chain 1 |\u001b[34m████▌     \u001b[0m| 00:21 Iteration: 800 / 1000 [ 80%]  (Sampling)\n",
      "\u001b[A\n",
      "\n",
      "chain 1 |\u001b[34m█████     \u001b[0m| 00:23 Iteration: 900 / 1000 [ 90%]  (Sampling)\n",
      "\u001b[A\n",
      "\n",
      "chain 1 |\u001b[34m██████████\u001b[0m| 00:23 Sampling completed                      \n",
      "chain 2 |\u001b[34m██████████\u001b[0m| 00:23 Sampling completed\n",
      "chain 3 |\u001b[34m██████████\u001b[0m| 00:23 Sampling completed                      \n",
      "chain 4 |\u001b[34m██████████\u001b[0m| 00:23 Sampling completed                      "
     ]
    },
    {
     "name": "stdout",
     "output_type": "stream",
     "text": [
      "                                                                                                                                                                                                                                                                                                                                "
     ]
    },
    {
     "name": "stderr",
     "output_type": "stream",
     "text": [
      "\n",
      "INFO:cmdstanpy:CmdStan done processing.\n"
     ]
    },
    {
     "name": "stdout",
     "output_type": "stream",
     "text": [
      "\n"
     ]
    }
   ],
   "source": [
    "data_generator_code2 = CmdStanModel(stan_file = 'code_2.stan')\n",
    "result_code2 = data_generator_code2.sample(data = data1)"
   ]
  },
  {
   "cell_type": "markdown",
   "metadata": {},
   "source": [
    "2. Generate data for the rest of the excercises."
   ]
  },
  {
   "cell_type": "code",
   "execution_count": 7,
   "metadata": {},
   "outputs": [
    {
     "name": "stdout",
     "output_type": "stream",
     "text": [
      "1600\n"
     ]
    }
   ],
   "source": [
    "X = result_code2.stan_variable('X')[0]\n",
    "print(len(X))"
   ]
  },
  {
   "cell_type": "code",
   "execution_count": 8,
   "metadata": {},
   "outputs": [
    {
     "name": "stdout",
     "output_type": "stream",
     "text": [
      "      lp__  accept_stat__  theta      y[1]      y[2]      y[3]      y[4]  \\\n",
      "0      0.0            0.0   0.01 -0.232298  0.839875  0.046562  0.055347   \n",
      "1      0.0            0.0   0.01 -0.312616 -2.769320  1.212140 -0.391039   \n",
      "2      0.0            0.0   0.01  0.210111  0.330559 -1.056020 -2.583310   \n",
      "3      0.0            0.0   0.01 -0.845899 -1.331180  0.570990 -0.757699   \n",
      "4      0.0            0.0   0.01  0.571530 -0.401159  1.114730  0.181413   \n",
      "...    ...            ...    ...       ...       ...       ...       ...   \n",
      "3995   0.0            0.0   0.01 -1.269130  0.505571  0.021981 -0.543671   \n",
      "3996   0.0            0.0   0.01 -0.804325 -0.948791  0.980672 -1.116000   \n",
      "3997   0.0            0.0   0.01  1.248880 -0.865156  0.555353 -0.523588   \n",
      "3998   0.0            0.0   0.01 -1.363330 -0.778549  0.016766  0.682768   \n",
      "3999   0.0            0.0   0.01  1.350000  0.629264  0.098979 -1.390170   \n",
      "\n",
      "          y[5]      y[6]      y[7]  ...   y[1591]   y[1592]   y[1593]  \\\n",
      "0     0.749735 -0.262048 -2.255230  ...  1.604330  0.629490 -0.932804   \n",
      "1     1.750560 -0.648147  0.197209  ... -0.849959  0.327066  0.729791   \n",
      "2    -0.483897  0.612143 -0.716603  ... -0.985669  0.933143  1.488080   \n",
      "3    -0.024898  0.237619  1.509450  ... -0.085704 -3.211830 -1.070710   \n",
      "4    -0.192424 -0.038648  0.417498  ...  2.221880 -1.383060 -0.877789   \n",
      "...        ...       ...       ...  ...       ...       ...       ...   \n",
      "3995  0.463471 -0.242514  0.456508  ...  0.548140 -0.363828  1.233410   \n",
      "3996  0.861521 -1.287600  1.060850  ... -1.196960  0.828027  0.583871   \n",
      "3997 -1.793320 -1.120840  1.302860  ... -0.625697 -0.719424  1.200510   \n",
      "3998 -0.321112 -1.378010  1.145200  ... -0.844390  0.969212 -0.145048   \n",
      "3999 -0.382876  0.830893 -0.446339  ... -1.674680  0.933713  0.530101   \n",
      "\n",
      "       y[1594]   y[1595]   y[1596]   y[1597]   y[1598]   y[1599]   y[1600]  \n",
      "0    -0.112062 -0.056502  0.051123 -0.991864  0.613577 -0.853592 -0.805420  \n",
      "1    -2.594730 -0.555096 -0.830532  1.230690 -0.424781  3.058100 -0.648480  \n",
      "2    -0.049961  0.470660 -1.414630  0.310249  0.730368  1.487740 -0.304382  \n",
      "3     0.883830 -0.218286 -0.502198 -0.300880  0.660846  0.513208 -0.920020  \n",
      "4     0.752854  0.067635 -0.491388  0.388546  0.336250 -1.521360  1.981170  \n",
      "...        ...       ...       ...       ...       ...       ...       ...  \n",
      "3995 -0.204215 -1.079340 -1.066070 -2.574960 -0.131115 -0.519848  2.284310  \n",
      "3996  0.828857 -1.068380 -0.333120  0.765035 -0.269310  2.187900  1.381860  \n",
      "3997  4.745450 -1.111130 -1.370670  1.044340 -0.727905  0.445201  0.997136  \n",
      "3998  0.308916 -0.263439 -0.185439 -1.309060  1.104040  0.562772  0.992969  \n",
      "3999 -0.679800 -1.924830 -1.133430  0.115560 -2.207710 -0.117234 -0.211058  \n",
      "\n",
      "[4000 rows x 1603 columns]\n"
     ]
    }
   ],
   "source": [
    "x1 = result_code1.draws_pd()\n",
    "print(x1)"
   ]
  },
  {
   "cell_type": "code",
   "execution_count": 9,
   "metadata": {},
   "outputs": [
    {
     "name": "stdout",
     "output_type": "stream",
     "text": [
      "y[1]       0.066709\n",
      "y[2]       0.140641\n",
      "y[3]       0.133078\n",
      "y[4]       0.066746\n",
      "y[5]       0.080149\n",
      "             ...   \n",
      "y[1596]    0.097906\n",
      "y[1597]    0.099929\n",
      "y[1598]    0.112650\n",
      "y[1599]    0.113764\n",
      "y[1600]    0.102554\n",
      "Length: 1600, dtype: float64\n"
     ]
    }
   ],
   "source": [
    "y1 = x1.iloc[:, 3:]\n",
    "y1_mean = y1.mean()\n",
    "print(y1_mean)"
   ]
  },
  {
   "cell_type": "code",
   "execution_count": 10,
   "metadata": {},
   "outputs": [],
   "source": [
    "x2 = result_code2.draws_pd()"
   ]
  },
  {
   "cell_type": "code",
   "execution_count": 11,
   "metadata": {},
   "outputs": [
    {
     "name": "stdout",
     "output_type": "stream",
     "text": [
      "      lp__  accept_stat__    X[1,1]    X[2,1]    X[3,1]    X[4,1]    X[5,1]  \\\n",
      "0      0.0            0.0  1.336840  0.841520  1.648440 -0.355497 -1.078000   \n",
      "1      0.0            0.0 -0.379696  0.009830  0.358477  1.723500  1.695250   \n",
      "2      0.0            0.0 -0.870242 -0.201638  0.269176 -0.987704 -0.099080   \n",
      "3      0.0            0.0 -0.844596  0.906381  0.471389  0.007645  0.390196   \n",
      "4      0.0            0.0  0.375412 -0.356714  1.009450  1.374830 -0.548721   \n",
      "...    ...            ...       ...       ...       ...       ...       ...   \n",
      "3995   0.0            0.0  0.153725  0.723063  0.238429 -0.842624  2.392340   \n",
      "3996   0.0            0.0  0.457502  1.436850 -1.040430 -0.293330  0.848394   \n",
      "3997   0.0            0.0  2.153280  1.792720  1.217430 -0.414738  1.631670   \n",
      "3998   0.0            0.0 -2.408860  0.320235 -0.579934 -1.501740  0.647145   \n",
      "3999   0.0            0.0 -0.365716  0.266518 -0.418337  0.529888  1.369080   \n",
      "\n",
      "        X[6,1]    X[7,1]    X[8,1]  ...   y[1591]   y[1592]   y[1593]  \\\n",
      "0     0.146563 -0.285165 -0.755531  ... -0.402569  0.260695 -1.801650   \n",
      "1    -1.446570 -3.438840  0.136544  ... -0.238230  2.774470  0.668205   \n",
      "2     0.989406  0.717120 -0.144530  ... -1.435150 -3.303290 -3.762050   \n",
      "3    -0.825425  0.208793 -1.125240  ...  1.568520  3.302390 -3.211010   \n",
      "4    -0.006113  1.641280  0.881171  ... -0.188705 -0.148109  3.245790   \n",
      "...        ...       ...       ...  ...       ...       ...       ...   \n",
      "3995  0.260148 -0.796525  0.651868  ...  1.551720 -0.506261  3.265810   \n",
      "3996  0.623189  0.834373 -0.407892  ... -1.411660  3.782150  4.025620   \n",
      "3997 -1.831760  1.435240 -0.627899  ...  0.091545  2.229720  1.250070   \n",
      "3998 -1.692000  1.218760  0.934700  ... -2.644260  1.174850  1.264990   \n",
      "3999 -0.661436  0.419839 -0.450667  ... -2.623630 -4.398800  2.424060   \n",
      "\n",
      "       y[1594]   y[1595]   y[1596]   y[1597]   y[1598]   y[1599]   y[1600]  \n",
      "0     2.721170  0.111485 -0.004687 -2.035350  2.069980 -1.382980  2.807810  \n",
      "1    -1.466410 -4.647980  1.889380  2.779920 -1.995910 -2.218810 -1.931270  \n",
      "2    -3.993270 -0.343482 -4.131860 -0.546298  1.641600 -2.512050 -2.827070  \n",
      "3    -0.147762 -0.140615  0.738023 -4.788260 -2.465750 -2.003200  0.455313  \n",
      "4    -0.025777 -1.582980  0.415107 -3.337060  2.237500 -0.531524  2.051040  \n",
      "...        ...       ...       ...       ...       ...       ...       ...  \n",
      "3995  2.460440  2.813390 -1.481800 -7.216520  0.628854  1.504900  1.649030  \n",
      "3996 -0.078359 -5.343720 -2.507930  1.506570 -2.576060 -0.022805  4.919390  \n",
      "3997 -0.823472 -2.432790 -1.468100  1.200470 -3.111800 -5.688370 -0.463208  \n",
      "3998 -0.417379 -2.262790  0.683317  1.804840 -0.573886  0.251397 -4.528560  \n",
      "3999  2.539290  5.224920 -2.473440  0.977558 -4.316770  0.506198  1.884050  \n",
      "\n",
      "[4000 rows x 6405 columns]\n"
     ]
    }
   ],
   "source": [
    "print(x2)"
   ]
  },
  {
   "cell_type": "code",
   "execution_count": 12,
   "metadata": {},
   "outputs": [],
   "source": [
    "y2 = x2.iloc[:,-1600:]"
   ]
  },
  {
   "cell_type": "code",
   "execution_count": 13,
   "metadata": {},
   "outputs": [
    {
     "name": "stdout",
     "output_type": "stream",
     "text": [
      "          y[1]      y[2]      y[3]      y[4]      y[5]      y[6]      y[7]  \\\n",
      "0     3.501030  1.692380  1.723570  2.617000 -2.595360 -1.384470 -0.882368   \n",
      "1     0.061867 -0.765217  3.318820  0.749663  2.154670 -6.429980 -5.378540   \n",
      "2    -0.670724  0.242345 -1.524520 -1.842520  0.454621  1.658700  4.507780   \n",
      "3    -0.727524  1.831940  0.749200  3.753890 -0.457939 -2.338980  2.021170   \n",
      "4     3.309290 -0.037620  1.597950  3.446140 -1.148140 -3.083380  2.124800   \n",
      "...        ...       ...       ...       ...       ...       ...       ...   \n",
      "3995 -0.575615  1.707510  2.065940 -1.376140  2.688680  1.423350 -2.567950   \n",
      "3996  1.872760  3.426870 -2.716710 -0.941985  2.726790  0.991183  1.706610   \n",
      "3997  2.943980  4.320860  0.475956 -1.293380  3.549690 -5.566700  2.476950   \n",
      "3998 -4.638880 -1.720070 -0.602607 -4.473330  1.601460 -5.149810  3.073800   \n",
      "3999 -5.013340 -1.114580 -0.635295  2.487760  2.110830 -2.277380  0.123441   \n",
      "\n",
      "          y[8]      y[9]     y[10]  ...   y[1591]   y[1592]   y[1593]  \\\n",
      "0     0.408341 -3.285590 -1.645950  ... -0.402569  0.260695 -1.801650   \n",
      "1    -0.767519 -3.568490 -0.585251  ... -0.238230  2.774470  0.668205   \n",
      "2     2.048780 -0.999704  2.524180  ... -1.435150 -3.303290 -3.762050   \n",
      "3    -4.349870  1.942380 -2.032930  ...  1.568520  3.302390 -3.211010   \n",
      "4     2.427740 -1.957890  0.079808  ... -0.188705 -0.148109  3.245790   \n",
      "...        ...       ...       ...  ...       ...       ...       ...   \n",
      "3995  0.051174  2.095040  0.613165  ...  1.551720 -0.506261  3.265810   \n",
      "3996 -1.079290  0.366468  0.010789  ... -1.411660  3.782150  4.025620   \n",
      "3997 -4.910070  3.759340 -1.864770  ...  0.091545  2.229720  1.250070   \n",
      "3998  2.886710  3.073400  3.456010  ... -2.644260  1.174850  1.264990   \n",
      "3999 -0.411826 -0.802124 -0.784464  ... -2.623630 -4.398800  2.424060   \n",
      "\n",
      "       y[1594]   y[1595]   y[1596]   y[1597]   y[1598]   y[1599]   y[1600]  \n",
      "0     2.721170  0.111485 -0.004687 -2.035350  2.069980 -1.382980  2.807810  \n",
      "1    -1.466410 -4.647980  1.889380  2.779920 -1.995910 -2.218810 -1.931270  \n",
      "2    -3.993270 -0.343482 -4.131860 -0.546298  1.641600 -2.512050 -2.827070  \n",
      "3    -0.147762 -0.140615  0.738023 -4.788260 -2.465750 -2.003200  0.455313  \n",
      "4    -0.025777 -1.582980  0.415107 -3.337060  2.237500 -0.531524  2.051040  \n",
      "...        ...       ...       ...       ...       ...       ...       ...  \n",
      "3995  2.460440  2.813390 -1.481800 -7.216520  0.628854  1.504900  1.649030  \n",
      "3996 -0.078359 -5.343720 -2.507930  1.506570 -2.576060 -0.022805  4.919390  \n",
      "3997 -0.823472 -2.432790 -1.468100  1.200470 -3.111800 -5.688370 -0.463208  \n",
      "3998 -0.417379 -2.262790  0.683317  1.804840 -0.573886  0.251397 -4.528560  \n",
      "3999  2.539290  5.224920 -2.473440  0.977558 -4.316770  0.506198  1.884050  \n",
      "\n",
      "[4000 rows x 1600 columns]\n"
     ]
    }
   ],
   "source": [
    "print(x2.iloc[:,-1600:])"
   ]
  },
  {
   "cell_type": "code",
   "execution_count": 14,
   "metadata": {},
   "outputs": [
    {
     "name": "stdout",
     "output_type": "stream",
     "text": [
      "y[1]      -0.035487\n",
      "y[2]       0.032375\n",
      "y[3]       0.029532\n",
      "y[4]      -0.009891\n",
      "y[5]      -0.006309\n",
      "             ...   \n",
      "y[1596]    0.034649\n",
      "y[1597]   -0.034035\n",
      "y[1598]    0.031944\n",
      "y[1599]   -0.018935\n",
      "y[1600]   -0.072697\n",
      "Length: 1600, dtype: float64\n"
     ]
    }
   ],
   "source": [
    "y2_mean = y2.mean(axis = 0)\n",
    "print(y2_mean)"
   ]
  },
  {
   "cell_type": "markdown",
   "metadata": {},
   "source": [
    "#### **Task 2: Optimizing the hyperparameters**"
   ]
  },
  {
   "cell_type": "markdown",
   "metadata": {},
   "source": [
    "1. Compile both models."
   ]
  },
  {
   "cell_type": "markdown",
   "metadata": {},
   "source": [
    "2. Fit both models."
   ]
  },
  {
   "cell_type": "code",
   "execution_count": 15,
   "metadata": {},
   "outputs": [
    {
     "name": "stderr",
     "output_type": "stream",
     "text": [
      "INFO:cmdstanpy:compiling stan file C:\\Users\\igach\\Desktop\\Python_folder\\Topic_7 — kopia\\code_3.stan to exe file C:\\Users\\igach\\Desktop\\Python_folder\\Topic_7 — kopia\\code_3.exe\n",
      "INFO:cmdstanpy:compiled model executable: C:\\Users\\igach\\Desktop\\Python_folder\\Topic_7 — kopia\\code_3.exe\n",
      "INFO:cmdstanpy:CmdStan start processing\n",
      "chain 1 |\u001b[33m          \u001b[0m| 00:00 Status\n",
      "\u001b[A\n",
      "\n",
      "chain 1 |\u001b[33m▍         \u001b[0m| 00:00 Status\n",
      "\u001b[A\n",
      "\n",
      "\u001b[A\u001b[A\n",
      "\n",
      "\u001b[A\u001b[A\n",
      "chain 1 |\u001b[33m██▎       \u001b[0m| 00:00 Iteration:  300 / 2000 [ 15%]  (Warmup)\n",
      "\n",
      "chain 1 |\u001b[33m████      \u001b[0m| 00:00 Iteration:  700 / 2000 [ 35%]  (Warmup)\n",
      "\u001b[A\n",
      "\n",
      "chain 1 |\u001b[34m█████▉    \u001b[0m| 00:01 Iteration: 1001 / 2000 [ 50%]  (Sampling)\n",
      "chain 1 |\u001b[34m██████▊   \u001b[0m| 00:03 Iteration: 1200 / 2000 [ 60%]  (Sampling)\n",
      "\n",
      "\u001b[A\u001b[A\n",
      "chain 1 |\u001b[34m███████▋  \u001b[0m| 00:05 Iteration: 1400 / 2000 [ 70%]  (Sampling)\n",
      "\n",
      "chain 1 |\u001b[34m████████▏ \u001b[0m| 00:06 Iteration: 1500 / 2000 [ 75%]  (Sampling)\n",
      "\n",
      "\u001b[A\u001b[A\n",
      "chain 1 |\u001b[34m████████▋ \u001b[0m| 00:07 Iteration: 1600 / 2000 [ 80%]  (Sampling)\n",
      "\n",
      "\u001b[A\u001b[A\n",
      "chain 1 |\u001b[34m█████████ \u001b[0m| 00:08 Iteration: 1700 / 2000 [ 85%]  (Sampling)\n",
      "\n",
      "\u001b[A\u001b[A\n",
      "chain 1 |\u001b[34m█████████▌\u001b[0m| 00:09 Iteration: 1800 / 2000 [ 90%]  (Sampling)\n",
      "\n",
      "\u001b[A\u001b[A\n",
      "chain 1 |\u001b[34m██████████\u001b[0m| 00:10 Sampling completed                       \n",
      "chain 2 |\u001b[34m██████████\u001b[0m| 00:10 Sampling completed                       \n",
      "chain 3 |\u001b[34m██████████\u001b[0m| 00:10 Sampling completed                       \n",
      "chain 4 |\u001b[34m██████████\u001b[0m| 00:10 Sampling completed                       "
     ]
    },
    {
     "name": "stdout",
     "output_type": "stream",
     "text": [
      "                                                                                                                                                                                                                                                                                                                                "
     ]
    },
    {
     "name": "stderr",
     "output_type": "stream",
     "text": [
      "\n",
      "INFO:cmdstanpy:CmdStan done processing.\n"
     ]
    },
    {
     "name": "stdout",
     "output_type": "stream",
     "text": [
      "\n"
     ]
    }
   ],
   "source": [
    "data_generator_code3 = CmdStanModel(stan_file='code_3.stan')\n",
    "\n",
    "data3_1 = dict(N=N,\n",
    "                 y=y1_mean)\n",
    "\n",
    "result_code3_1 = data_generator_code3.sample(data = data3_1)"
   ]
  },
  {
   "cell_type": "code",
   "execution_count": 16,
   "metadata": {},
   "outputs": [
    {
     "name": "stderr",
     "output_type": "stream",
     "text": [
      "INFO:cmdstanpy:CmdStan start processing\n",
      "chain 1 |\u001b[33m          \u001b[0m| 00:00 Status\n",
      "\u001b[A\n",
      "\n",
      "\u001b[A\u001b[A\n",
      "\n",
      "\u001b[A\u001b[A\n",
      "chain 1 |\u001b[33m▉         \u001b[0m| 00:00 Iteration:    1 / 2000 [  0%]  (Warmup)\n",
      "\n",
      "\u001b[A\u001b[A\n",
      "chain 1 |\u001b[33m███▋      \u001b[0m| 00:00 Iteration:  600 / 2000 [ 30%]  (Warmup)\n",
      "\n",
      "chain 1 |\u001b[34m█████▉    \u001b[0m| 00:01 Iteration: 1001 / 2000 [ 50%]  (Sampling)\n",
      "\u001b[A\n",
      "\n",
      "chain 1 |\u001b[34m███████▎  \u001b[0m| 00:03 Iteration: 1300 / 2000 [ 65%]  (Sampling)\n",
      "\u001b[A\n",
      "\n",
      "chain 1 |\u001b[34m████████▏ \u001b[0m| 00:05 Iteration: 1500 / 2000 [ 75%]  (Sampling)\n",
      "chain 1 |\u001b[34m████████▋ \u001b[0m| 00:06 Iteration: 1600 / 2000 [ 80%]  (Sampling)\n",
      "\n",
      "chain 1 |\u001b[34m█████████ \u001b[0m| 00:07 Iteration: 1700 / 2000 [ 85%]  (Sampling)\n",
      "\n",
      "\u001b[A\u001b[A\n",
      "chain 1 |\u001b[34m█████████▌\u001b[0m| 00:08 Iteration: 1800 / 2000 [ 90%]  (Sampling)\n",
      "\n",
      "\u001b[A\u001b[A\n",
      "chain 1 |\u001b[34m██████████\u001b[0m| 00:09 Sampling completed                       \n",
      "chain 2 |\u001b[34m██████████\u001b[0m| 00:09 Sampling completed                       \n",
      "chain 3 |\u001b[34m██████████\u001b[0m| 00:09 Sampling completed                       \n",
      "chain 4 |\u001b[34m██████████\u001b[0m| 00:09 Sampling completed                       "
     ]
    },
    {
     "name": "stdout",
     "output_type": "stream",
     "text": [
      "                                                                                                                                                                                                                                                                                                                                "
     ]
    },
    {
     "name": "stderr",
     "output_type": "stream",
     "text": [
      "\n",
      "INFO:cmdstanpy:CmdStan done processing.\n"
     ]
    },
    {
     "name": "stdout",
     "output_type": "stream",
     "text": [
      "\n"
     ]
    }
   ],
   "source": [
    "data3_2 = dict(N=N,\n",
    "                 y=y2_mean)\n",
    "\n",
    "result_code3_2 = data_generator_code3.sample(data = data3_2)"
   ]
  },
  {
   "cell_type": "code",
   "execution_count": 17,
   "metadata": {},
   "outputs": [
    {
     "name": "stderr",
     "output_type": "stream",
     "text": [
      "INFO:cmdstanpy:compiling stan file C:\\Users\\igach\\Desktop\\Python_folder\\Topic_7 — kopia\\code_4.stan to exe file C:\\Users\\igach\\Desktop\\Python_folder\\Topic_7 — kopia\\code_4.exe\n",
      "INFO:cmdstanpy:compiled model executable: C:\\Users\\igach\\Desktop\\Python_folder\\Topic_7 — kopia\\code_4.exe\n",
      "INFO:cmdstanpy:CmdStan start processing\n",
      "chain 1 |\u001b[33m          \u001b[0m| 00:00 Status\n",
      "\u001b[A\n",
      "\n",
      "\u001b[A\u001b[A\n",
      "\n",
      "\u001b[A\u001b[A\n",
      "chain 1 |\u001b[33m▍         \u001b[0m| 00:00 Status\n",
      "\n",
      "chain 1 |\u001b[33m█▎        \u001b[0m| 00:00 Iteration:  100 / 2000 [  5%]  (Warmup)\n",
      "chain 1 |\u001b[33m█▊        \u001b[0m| 00:00 Iteration:  200 / 2000 [ 10%]  (Warmup)\n",
      "\n",
      "chain 1 |\u001b[33m██▎       \u001b[0m| 00:00 Iteration:  300 / 2000 [ 15%]  (Warmup)\n",
      "\n",
      "chain 1 |\u001b[33m██▋       \u001b[0m| 00:01 Iteration:  400 / 2000 [ 20%]  (Warmup)\n",
      "\u001b[A\n",
      "\n",
      "chain 1 |\u001b[33m███▏      \u001b[0m| 00:01 Iteration:  500 / 2000 [ 25%]  (Warmup)\n",
      "\n",
      "chain 1 |\u001b[33m███▋      \u001b[0m| 00:01 Iteration:  600 / 2000 [ 30%]  (Warmup)\n",
      "chain 1 |\u001b[33m████      \u001b[0m| 00:01 Iteration:  700 / 2000 [ 35%]  (Warmup)\n",
      "\n",
      "\u001b[A\u001b[A\n",
      "chain 1 |\u001b[33m████▌     \u001b[0m| 00:01 Iteration:  800 / 2000 [ 40%]  (Warmup)\n",
      "\n",
      "chain 1 |\u001b[33m█████     \u001b[0m| 00:02 Iteration:  900 / 2000 [ 45%]  (Warmup)\n",
      "\u001b[A\n",
      "\n",
      "\u001b[A\u001b[A\n",
      "\u001b[A\n",
      "\n",
      "\u001b[A\u001b[A\n",
      "\u001b[A\n",
      "\n",
      "\u001b[A\u001b[A\n",
      "\u001b[A\n",
      "\u001b[A\n",
      "chain 1 |\u001b[34m█████▉    \u001b[0m| 00:03 Iteration: 1001 / 2000 [ 50%]  (Sampling)\n",
      "\n",
      "\u001b[A\u001b[A\n",
      "chain 1 |\u001b[34m██████▎   \u001b[0m| 00:04 Iteration: 1100 / 2000 [ 55%]  (Sampling)\n",
      "\n",
      "\u001b[A\u001b[A\n",
      "chain 1 |\u001b[34m██████▊   \u001b[0m| 00:05 Iteration: 1200 / 2000 [ 60%]  (Sampling)\n",
      "\n",
      "\u001b[A\u001b[A\n",
      "chain 1 |\u001b[34m███████▎  \u001b[0m| 00:06 Iteration: 1300 / 2000 [ 65%]  (Sampling)\n",
      "\n",
      "\u001b[A\u001b[A\n",
      "chain 1 |\u001b[34m███████▋  \u001b[0m| 00:08 Iteration: 1400 / 2000 [ 70%]  (Sampling)\n",
      "\n",
      "\u001b[A\u001b[A\n",
      "chain 1 |\u001b[34m████████▏ \u001b[0m| 00:09 Iteration: 1500 / 2000 [ 75%]  (Sampling)\n",
      "\n",
      "\u001b[A\u001b[A\n",
      "chain 1 |\u001b[34m████████▋ \u001b[0m| 00:10 Iteration: 1600 / 2000 [ 80%]  (Sampling)\n",
      "\n",
      "\u001b[A\u001b[A\n",
      "chain 1 |\u001b[34m█████████ \u001b[0m| 00:11 Iteration: 1700 / 2000 [ 85%]  (Sampling)\n",
      "\n",
      "\u001b[A\u001b[A\n",
      "chain 1 |\u001b[34m█████████▌\u001b[0m| 00:13 Iteration: 1800 / 2000 [ 90%]  (Sampling)\n",
      "\n",
      "\u001b[A\u001b[A\n",
      "chain 1 |\u001b[34m██████████\u001b[0m| 00:14 Iteration: 1900 / 2000 [ 95%]  (Sampling)\n",
      "\n",
      "\u001b[A\u001b[A\n",
      "chain 1 |\u001b[34m██████████\u001b[0m| 00:14 Sampling completed                       \n",
      "chain 2 |\u001b[34m██████████\u001b[0m| 00:14 Sampling completed                       \n",
      "chain 3 |\u001b[34m██████████\u001b[0m| 00:14 Sampling completed                       \n",
      "chain 4 |\u001b[34m██████████\u001b[0m| 00:14 Sampling completed                       "
     ]
    },
    {
     "name": "stdout",
     "output_type": "stream",
     "text": [
      "                                                                                                                                                                                                                                                                                                                                "
     ]
    },
    {
     "name": "stderr",
     "output_type": "stream",
     "text": [
      "\n",
      "INFO:cmdstanpy:CmdStan done processing.\n"
     ]
    },
    {
     "name": "stdout",
     "output_type": "stream",
     "text": [
      "\n"
     ]
    }
   ],
   "source": [
    "data_generator_code4 = CmdStanModel(stan_file='code_4.stan')\n",
    "\n",
    "data4_1 = dict(N=N,\n",
    "                 y=y1_mean)\n",
    "\n",
    "result_code4_1 = data_generator_code4.sample(data = data4_1)"
   ]
  },
  {
   "cell_type": "code",
   "execution_count": 18,
   "metadata": {},
   "outputs": [
    {
     "name": "stderr",
     "output_type": "stream",
     "text": [
      "INFO:cmdstanpy:CmdStan start processing\n",
      "chain 1 |\u001b[33m          \u001b[0m| 00:00 Status\n",
      "\u001b[A\n",
      "\n",
      "\u001b[A\u001b[A\n",
      "chain 1 |\u001b[33m▉         \u001b[0m| 00:00 Iteration:    1 / 2000 [  0%]  (Warmup)\n",
      "\n",
      "chain 1 |\u001b[33m█▎        \u001b[0m| 00:00 Iteration:  100 / 2000 [  5%]  (Warmup)\n",
      "\u001b[A\n",
      "\n",
      "chain 1 |\u001b[33m█▊        \u001b[0m| 00:00 Iteration:  200 / 2000 [ 10%]  (Warmup)\n",
      "\u001b[A\n",
      "\n",
      "chain 1 |\u001b[33m██▎       \u001b[0m| 00:01 Iteration:  300 / 2000 [ 15%]  (Warmup)\n",
      "\u001b[A\n",
      "\n",
      "chain 1 |\u001b[33m██▋       \u001b[0m| 00:01 Iteration:  400 / 2000 [ 20%]  (Warmup)\n",
      "\u001b[A\n",
      "\n",
      "chain 1 |\u001b[33m███▏      \u001b[0m| 00:01 Iteration:  500 / 2000 [ 25%]  (Warmup)\n",
      "\u001b[A\n",
      "\n",
      "chain 1 |\u001b[33m███▋      \u001b[0m| 00:01 Iteration:  600 / 2000 [ 30%]  (Warmup)\n",
      "\u001b[A\n",
      "\n",
      "chain 1 |\u001b[33m████      \u001b[0m| 00:01 Iteration:  700 / 2000 [ 35%]  (Warmup)\n",
      "\u001b[A\n",
      "\n",
      "chain 1 |\u001b[33m████▌     \u001b[0m| 00:02 Iteration:  800 / 2000 [ 40%]  (Warmup)\n",
      "\n",
      "chain 1 |\u001b[33m█████     \u001b[0m| 00:02 Iteration:  900 / 2000 [ 45%]  (Warmup)\n",
      "\u001b[A\n",
      "\n",
      "chain 1 |\u001b[34m█████▉    \u001b[0m| 00:03 Iteration: 1001 / 2000 [ 50%]  (Sampling)\n",
      "\u001b[A\n",
      "\n",
      "\u001b[A\u001b[A\n",
      "chain 1 |\u001b[34m██████▎   \u001b[0m| 00:05 Iteration: 1100 / 2000 [ 55%]  (Sampling)\n",
      "\n",
      "chain 1 |\u001b[34m██████▊   \u001b[0m| 00:06 Iteration: 1200 / 2000 [ 60%]  (Sampling)\n",
      "\u001b[A\n",
      "\n",
      "chain 1 |\u001b[34m███████▎  \u001b[0m| 00:07 Iteration: 1300 / 2000 [ 65%]  (Sampling)\n",
      "\u001b[A\n",
      "\n",
      "chain 1 |\u001b[34m███████▋  \u001b[0m| 00:09 Iteration: 1400 / 2000 [ 70%]  (Sampling)\n",
      "\u001b[A\n",
      "\n",
      "chain 1 |\u001b[34m████████▏ \u001b[0m| 00:10 Iteration: 1500 / 2000 [ 75%]  (Sampling)\n",
      "\u001b[A\n",
      "\n",
      "chain 1 |\u001b[34m████████▋ \u001b[0m| 00:11 Iteration: 1600 / 2000 [ 80%]  (Sampling)\n",
      "\u001b[A\n",
      "\n",
      "chain 1 |\u001b[34m█████████ \u001b[0m| 00:12 Iteration: 1700 / 2000 [ 85%]  (Sampling)\n",
      "\u001b[A\n",
      "\n",
      "chain 1 |\u001b[34m█████████▌\u001b[0m| 00:14 Iteration: 1800 / 2000 [ 90%]  (Sampling)\n",
      "\u001b[A\n",
      "\n",
      "chain 1 |\u001b[34m██████████\u001b[0m| 00:15 Iteration: 1900 / 2000 [ 95%]  (Sampling)\n",
      "\u001b[A\n",
      "\n",
      "chain 1 |\u001b[34m██████████\u001b[0m| 00:15 Sampling completed                       \n",
      "chain 2 |\u001b[34m██████████\u001b[0m| 00:15 Sampling completed                       \n",
      "chain 3 |\u001b[34m██████████\u001b[0m| 00:15 Sampling completed                       \n",
      "chain 4 |\u001b[34m██████████\u001b[0m| 00:15 Sampling completed                       "
     ]
    },
    {
     "name": "stdout",
     "output_type": "stream",
     "text": [
      "                                                                                                                                                                                                                                                                                                                                "
     ]
    },
    {
     "name": "stderr",
     "output_type": "stream",
     "text": [
      "\n",
      "INFO:cmdstanpy:CmdStan done processing.\n"
     ]
    },
    {
     "name": "stdout",
     "output_type": "stream",
     "text": [
      "\n"
     ]
    }
   ],
   "source": [
    "data4_2 = dict(N=N,\n",
    "                 y=y2_mean)\n",
    "\n",
    "result_code4_2 = data_generator_code4.sample(data = data4_2)"
   ]
  },
  {
   "cell_type": "markdown",
   "metadata": {},
   "source": [
    "3. Using az.compare and az.plot_compare analyze both models using loo and waic criteria."
   ]
  },
  {
   "cell_type": "code",
   "execution_count": 19,
   "metadata": {},
   "outputs": [],
   "source": [
    "import arviz as az"
   ]
  },
  {
   "cell_type": "markdown",
   "metadata": {},
   "source": [
    "Model3:"
   ]
  },
  {
   "cell_type": "code",
   "execution_count": 20,
   "metadata": {},
   "outputs": [
    {
     "data": {
      "text/plain": [
       "Computed from 4000 by 1600 log-likelihood matrix\n",
       "\n",
       "         Estimate       SE\n",
       "elpd_loo  3503.90    28.91\n",
       "p_loo        2.12        -"
      ]
     },
     "execution_count": 20,
     "metadata": {},
     "output_type": "execute_result"
    }
   ],
   "source": [
    "az.loo(result_code3_1)"
   ]
  },
  {
   "cell_type": "code",
   "execution_count": 21,
   "metadata": {},
   "outputs": [
    {
     "data": {
      "text/plain": [
       "Computed from 4000 by 1600 log-likelihood matrix\n",
       "\n",
       "         Estimate       SE\n",
       "elpd_loo  2912.10    27.67\n",
       "p_loo        1.92        -"
      ]
     },
     "execution_count": 21,
     "metadata": {},
     "output_type": "execute_result"
    }
   ],
   "source": [
    "az.loo(result_code3_2)"
   ]
  },
  {
   "cell_type": "code",
   "execution_count": 22,
   "metadata": {},
   "outputs": [
    {
     "data": {
      "text/plain": [
       "Computed from 4000 by 1600 log-likelihood matrix\n",
       "\n",
       "          Estimate       SE\n",
       "elpd_waic  3503.90    28.91\n",
       "p_waic        2.12        -"
      ]
     },
     "execution_count": 22,
     "metadata": {},
     "output_type": "execute_result"
    }
   ],
   "source": [
    "az.waic(result_code3_1)"
   ]
  },
  {
   "cell_type": "code",
   "execution_count": 23,
   "metadata": {},
   "outputs": [
    {
     "data": {
      "text/plain": [
       "Computed from 4000 by 1600 log-likelihood matrix\n",
       "\n",
       "          Estimate       SE\n",
       "elpd_waic  2912.10    27.67\n",
       "p_waic        1.92        -"
      ]
     },
     "execution_count": 23,
     "metadata": {},
     "output_type": "execute_result"
    }
   ],
   "source": [
    "az.waic(result_code3_2)"
   ]
  },
  {
   "cell_type": "markdown",
   "metadata": {},
   "source": [
    "Model4:"
   ]
  },
  {
   "cell_type": "code",
   "execution_count": 24,
   "metadata": {},
   "outputs": [
    {
     "data": {
      "text/plain": [
       "Computed from 4000 by 1600 log-likelihood matrix\n",
       "\n",
       "         Estimate       SE\n",
       "elpd_loo  3503.32    28.69\n",
       "p_loo        2.23        -"
      ]
     },
     "execution_count": 24,
     "metadata": {},
     "output_type": "execute_result"
    }
   ],
   "source": [
    "az.loo(result_code4_1)"
   ]
  },
  {
   "cell_type": "code",
   "execution_count": 25,
   "metadata": {},
   "outputs": [
    {
     "data": {
      "text/plain": [
       "Computed from 4000 by 1600 log-likelihood matrix\n",
       "\n",
       "         Estimate       SE\n",
       "elpd_loo  2910.29    27.82\n",
       "p_loo        2.05        -"
      ]
     },
     "execution_count": 25,
     "metadata": {},
     "output_type": "execute_result"
    }
   ],
   "source": [
    "az.loo(result_code4_2)"
   ]
  },
  {
   "cell_type": "code",
   "execution_count": 26,
   "metadata": {},
   "outputs": [
    {
     "data": {
      "text/plain": [
       "Computed from 4000 by 1600 log-likelihood matrix\n",
       "\n",
       "          Estimate       SE\n",
       "elpd_waic  3503.32    28.69\n",
       "p_waic        2.23        -"
      ]
     },
     "execution_count": 26,
     "metadata": {},
     "output_type": "execute_result"
    }
   ],
   "source": [
    "az.waic(result_code4_1)"
   ]
  },
  {
   "cell_type": "code",
   "execution_count": 27,
   "metadata": {},
   "outputs": [
    {
     "data": {
      "text/plain": [
       "Computed from 4000 by 1600 log-likelihood matrix\n",
       "\n",
       "          Estimate       SE\n",
       "elpd_waic  2910.29    27.82\n",
       "p_waic        2.05        -"
      ]
     },
     "execution_count": 27,
     "metadata": {},
     "output_type": "execute_result"
    }
   ],
   "source": [
    "az.waic(result_code4_2)"
   ]
  },
  {
   "cell_type": "markdown",
   "metadata": {},
   "source": [
    "Comparison:"
   ]
  },
  {
   "cell_type": "code",
   "execution_count": 28,
   "metadata": {},
   "outputs": [],
   "source": [
    "rz_code3_1 = az.from_cmdstanpy(result_code3_1)\n",
    "rz_code3_2 = az.from_cmdstanpy(result_code3_2)"
   ]
  },
  {
   "cell_type": "code",
   "execution_count": 29,
   "metadata": {},
   "outputs": [
    {
     "name": "stderr",
     "output_type": "stream",
     "text": [
      "c:\\Users\\igach\\AppData\\Local\\Programs\\Python\\Python310\\lib\\site-packages\\arviz\\stats\\stats.py:248: FutureWarning: The frame.append method is deprecated and will be removed from pandas in a future version. Use pandas.concat instead.\n",
      "  ics = ics.append([ic_func(dataset, pointwise=True, scale=scale, var_name=var_name)])\n"
     ]
    },
    {
     "name": "stdout",
     "output_type": "stream",
     "text": [
      "   rank          loo     p_loo       d_loo   weight         se       dse  \\\n",
      "1     0  3503.898251  2.122560    0.000000  0.92527  28.910313   0.00000   \n",
      "2     1  2912.095406  1.920023  591.802845  0.07473  27.668108  40.51771   \n",
      "\n",
      "   warning loo_scale  \n",
      "1    False       log  \n",
      "2    False       log  \n"
     ]
    },
    {
     "name": "stderr",
     "output_type": "stream",
     "text": [
      "c:\\Users\\igach\\AppData\\Local\\Programs\\Python\\Python310\\lib\\site-packages\\arviz\\stats\\stats.py:248: FutureWarning: The frame.append method is deprecated and will be removed from pandas in a future version. Use pandas.concat instead.\n",
      "  ics = ics.append([ic_func(dataset, pointwise=True, scale=scale, var_name=var_name)])\n"
     ]
    }
   ],
   "source": [
    "code3_compare = az.compare({\"1\":rz_code3_1, \"2\":rz_code3_2})\n",
    "print(code3_compare)"
   ]
  },
  {
   "cell_type": "code",
   "execution_count": 30,
   "metadata": {},
   "outputs": [
    {
     "data": {
      "text/plain": [
       "<AxesSubplot:xlabel='Log'>"
      ]
     },
     "execution_count": 30,
     "metadata": {},
     "output_type": "execute_result"
    },
    {
     "data": {
      "image/png": "[encoded data removed]",
      "text/plain": [
       "<Figure size 432x144 with 1 Axes>"
      ]
     },
     "metadata": {
      "needs_background": "light"
     },
     "output_type": "display_data"
    }
   ],
   "source": [
    "az.plot_compare(code3_compare)"
   ]
  },
  {
   "cell_type": "code",
   "execution_count": 31,
   "metadata": {},
   "outputs": [],
   "source": [
    "rz_code4_1 = az.from_cmdstanpy(result_code4_1)\n",
    "rz_code4_2 = az.from_cmdstanpy(result_code4_2)"
   ]
  },
  {
   "cell_type": "code",
   "execution_count": 32,
   "metadata": {},
   "outputs": [
    {
     "name": "stderr",
     "output_type": "stream",
     "text": [
      "c:\\Users\\igach\\AppData\\Local\\Programs\\Python\\Python310\\lib\\site-packages\\arviz\\stats\\stats.py:248: FutureWarning: The frame.append method is deprecated and will be removed from pandas in a future version. Use pandas.concat instead.\n",
      "  ics = ics.append([ic_func(dataset, pointwise=True, scale=scale, var_name=var_name)])\n"
     ]
    },
    {
     "name": "stdout",
     "output_type": "stream",
     "text": [
      "   rank          loo     p_loo       d_loo    weight         se        dse  \\\n",
      "1     0  3503.318161  2.231713    0.000000  0.920637  28.689567   0.000000   \n",
      "2     1  2910.289333  2.051390  593.028828  0.079363  27.819243  40.423731   \n",
      "\n",
      "   warning loo_scale  \n",
      "1    False       log  \n",
      "2    False       log  \n"
     ]
    },
    {
     "name": "stderr",
     "output_type": "stream",
     "text": [
      "c:\\Users\\igach\\AppData\\Local\\Programs\\Python\\Python310\\lib\\site-packages\\arviz\\stats\\stats.py:248: FutureWarning: The frame.append method is deprecated and will be removed from pandas in a future version. Use pandas.concat instead.\n",
      "  ics = ics.append([ic_func(dataset, pointwise=True, scale=scale, var_name=var_name)])\n"
     ]
    }
   ],
   "source": [
    "code4_compare = az.compare({\"1\":rz_code4_1, \"2\":rz_code4_2})\n",
    "print(code4_compare)"
   ]
  },
  {
   "cell_type": "code",
   "execution_count": 33,
   "metadata": {},
   "outputs": [
    {
     "data": {
      "text/plain": [
       "<AxesSubplot:xlabel='Log'>"
      ]
     },
     "execution_count": 33,
     "metadata": {},
     "output_type": "execute_result"
    },
    {
     "data": {
      "image/png": "[encoded data removed]",
      "text/plain": [
       "<Figure size 432x144 with 1 Axes>"
      ]
     },
     "metadata": {
      "needs_background": "light"
     },
     "output_type": "display_data"
    }
   ],
   "source": [
    "az.plot_compare(code4_compare)"
   ]
  },
  {
   "cell_type": "markdown",
   "metadata": {},
   "source": [
    "#### **Task 3: Compare models with different numbers of predictors**"
   ]
  },
  {
   "cell_type": "markdown",
   "metadata": {},
   "source": [
    "1. Compile model."
   ]
  },
  {
   "cell_type": "code",
   "execution_count": 34,
   "metadata": {},
   "outputs": [
    {
     "name": "stderr",
     "output_type": "stream",
     "text": [
      "INFO:cmdstanpy:compiling stan file C:\\Users\\igach\\Desktop\\Python_folder\\Topic_7 — kopia\\code_5.stan to exe file C:\\Users\\igach\\Desktop\\Python_folder\\Topic_7 — kopia\\code_5.exe\n",
      "INFO:cmdstanpy:compiled model executable: C:\\Users\\igach\\Desktop\\Python_folder\\Topic_7 — kopia\\code_5.exe\n"
     ]
    }
   ],
   "source": [
    "data_generator_code5 = CmdStanModel(stan_file='code_5.stan')"
   ]
  },
  {
   "cell_type": "markdown",
   "metadata": {},
   "source": [
    "2. Compare models for 1, 2 and 3 predictors as in previous excercise."
   ]
  },
  {
   "cell_type": "markdown",
   "metadata": {},
   "source": [
    "1 predictor:"
   ]
  },
  {
   "cell_type": "code",
   "execution_count": 35,
   "metadata": {},
   "outputs": [
    {
     "name": "stderr",
     "output_type": "stream",
     "text": [
      "INFO:cmdstanpy:CmdStan start processing\n",
      "chain 1 |\u001b[33m          \u001b[0m| 00:00 Status\n",
      "\u001b[A\n",
      "\n",
      "\u001b[A\u001b[A\n",
      "\n",
      "\u001b[A\u001b[A\n",
      "chain 1 |\u001b[33m█▎        \u001b[0m| 00:00 Iteration:  100 / 2000 [  5%]  (Warmup)\n",
      "\n",
      "\u001b[A\u001b[A\n",
      "chain 1 |\u001b[33m██▎       \u001b[0m| 00:00 Iteration:  300 / 2000 [ 15%]  (Warmup)\n",
      "\n",
      "\u001b[A\u001b[A\n",
      "chain 1 |\u001b[33m███▏      \u001b[0m| 00:00 Iteration:  500 / 2000 [ 25%]  (Warmup)\n",
      "\n",
      "\u001b[A\u001b[A\n",
      "chain 1 |\u001b[33m████      \u001b[0m| 00:00 Iteration:  700 / 2000 [ 35%]  (Warmup)\n",
      "\n",
      "\u001b[A\u001b[A\n",
      "\u001b[A\n",
      "\n",
      "chain 1 |\u001b[33m█████     \u001b[0m| 00:00 Iteration:  900 / 2000 [ 45%]  (Warmup)\n",
      "chain 1 |\u001b[34m█████▉    \u001b[0m| 00:02 Iteration: 1001 / 2000 [ 50%]  (Sampling)\n",
      "\n",
      "\u001b[A\u001b[A\n",
      "chain 1 |\u001b[34m██████▎   \u001b[0m| 00:03 Iteration: 1100 / 2000 [ 55%]  (Sampling)\n",
      "chain 1 |\u001b[34m██████▊   \u001b[0m| 00:04 Iteration: 1200 / 2000 [ 60%]  (Sampling)\n",
      "\u001b[A\n",
      "\n",
      "chain 1 |\u001b[34m███████▎  \u001b[0m| 00:05 Iteration: 1300 / 2000 [ 65%]  (Sampling)\n",
      "\u001b[A\n",
      "\n",
      "chain 1 |\u001b[34m███████▋  \u001b[0m| 00:07 Iteration: 1400 / 2000 [ 70%]  (Sampling)\n",
      "\n",
      "\u001b[A\u001b[A\n",
      "chain 1 |\u001b[34m████████▏ \u001b[0m| 00:08 Iteration: 1500 / 2000 [ 75%]  (Sampling)\n",
      "\n",
      "\u001b[A\u001b[A\n",
      "chain 1 |\u001b[34m████████▋ \u001b[0m| 00:09 Iteration: 1600 / 2000 [ 80%]  (Sampling)\n",
      "\n",
      "\u001b[A\u001b[A\n",
      "chain 1 |\u001b[34m█████████ \u001b[0m| 00:11 Iteration: 1700 / 2000 [ 85%]  (Sampling)\n",
      "\n",
      "\u001b[A\u001b[A\n",
      "chain 1 |\u001b[34m█████████▌\u001b[0m| 00:12 Iteration: 1800 / 2000 [ 90%]  (Sampling)\n",
      "\n",
      "\u001b[A\u001b[A\n",
      "chain 1 |\u001b[34m██████████\u001b[0m| 00:13 Iteration: 1900 / 2000 [ 95%]  (Sampling)\n",
      "\n",
      "\u001b[A\u001b[A\n",
      "chain 1 |\u001b[34m██████████\u001b[0m| 00:14 Sampling completed                       \n",
      "chain 2 |\u001b[34m██████████\u001b[0m| 00:14 Sampling completed                       \n",
      "chain 3 |\u001b[34m██████████\u001b[0m| 00:14 Sampling completed                       \n",
      "chain 4 |\u001b[34m██████████\u001b[0m| 00:14 Sampling completed                       "
     ]
    },
    {
     "name": "stdout",
     "output_type": "stream",
     "text": [
      "                                                                                                                                                                                                                                                                                                                                "
     ]
    },
    {
     "name": "stderr",
     "output_type": "stream",
     "text": [
      "\n",
      "INFO:cmdstanpy:CmdStan done processing.\n"
     ]
    },
    {
     "name": "stdout",
     "output_type": "stream",
     "text": [
      "\n"
     ]
    }
   ],
   "source": [
    "nxm = []\n",
    "for i in X[:,0]:\n",
    "    nxm.append([i])\n",
    "\n",
    "code5_pred_1 = dict(N=N, K=1, y=np.array(y2_mean), X=nxm)\n",
    "pred_1_result = data_generator_code5.sample(data = code5_pred_1)"
   ]
  },
  {
   "cell_type": "markdown",
   "metadata": {},
   "source": [
    "2 predictor:"
   ]
  },
  {
   "cell_type": "code",
   "execution_count": 36,
   "metadata": {},
   "outputs": [
    {
     "name": "stderr",
     "output_type": "stream",
     "text": [
      "INFO:cmdstanpy:CmdStan start processing\n",
      "chain 1 |\u001b[33m          \u001b[0m| 00:00 Status\n",
      "\u001b[A\n",
      "\n",
      "\u001b[A\u001b[A\n",
      "\n",
      "chain 1 |\u001b[33m▉         \u001b[0m| 00:00 Iteration:    1 / 2000 [  0%]  (Warmup)\n",
      "\u001b[A\n",
      "\n",
      "chain 1 |\u001b[33m█▊        \u001b[0m| 00:00 Iteration:  200 / 2000 [ 10%]  (Warmup)\n",
      "\u001b[A\n",
      "\n",
      "chain 1 |\u001b[33m██▋       \u001b[0m| 00:00 Iteration:  400 / 2000 [ 20%]  (Warmup)\n",
      "\u001b[A\n",
      "\n",
      "chain 1 |\u001b[33m███▋      \u001b[0m| 00:00 Iteration:  600 / 2000 [ 30%]  (Warmup)\n",
      "\u001b[A\n",
      "\n",
      "chain 1 |\u001b[33m████▌     \u001b[0m| 00:00 Iteration:  800 / 2000 [ 40%]  (Warmup)\n",
      "\u001b[A\n",
      "\n",
      "\u001b[A\u001b[A\n",
      "chain 1 |\u001b[34m█████▉    \u001b[0m| 00:02 Iteration: 1001 / 2000 [ 50%]  (Sampling)\n",
      "\n",
      "\u001b[A\u001b[A\n",
      "chain 1 |\u001b[34m██████▎   \u001b[0m| 00:03 Iteration: 1100 / 2000 [ 55%]  (Sampling)\n",
      "\n",
      "\u001b[A\u001b[A\n",
      "chain 1 |\u001b[34m██████▊   \u001b[0m| 00:04 Iteration: 1200 / 2000 [ 60%]  (Sampling)\n",
      "\n",
      "\u001b[A\u001b[A\n",
      "chain 1 |\u001b[34m███████▎  \u001b[0m| 00:05 Iteration: 1300 / 2000 [ 65%]  (Sampling)\n",
      "\u001b[A\n",
      "\n",
      "chain 1 |\u001b[34m████████▏ \u001b[0m| 00:08 Iteration: 1500 / 2000 [ 75%]  (Sampling)\n",
      "\n",
      "\u001b[A\u001b[A\n",
      "chain 1 |\u001b[34m████████▋ \u001b[0m| 00:09 Iteration: 1600 / 2000 [ 80%]  (Sampling)\n",
      "\u001b[A\n",
      "\n",
      "chain 1 |\u001b[34m█████████ \u001b[0m| 00:10 Iteration: 1700 / 2000 [ 85%]  (Sampling)\n",
      "\n",
      "\u001b[A\u001b[A\n",
      "chain 1 |\u001b[34m█████████▌\u001b[0m| 00:11 Iteration: 1800 / 2000 [ 90%]  (Sampling)\n",
      "\u001b[A\n",
      "\n",
      "chain 1 |\u001b[34m██████████\u001b[0m| 00:12 Iteration: 1900 / 2000 [ 95%]  (Sampling)\n",
      "\n",
      "\u001b[A\u001b[A\n",
      "chain 1 |\u001b[34m██████████\u001b[0m| 00:12 Sampling completed                       \n",
      "chain 2 |\u001b[34m██████████\u001b[0m| 00:12 Sampling completed                       \n",
      "chain 3 |\u001b[34m██████████\u001b[0m| 00:12 Sampling completed                       \n",
      "chain 4 |\u001b[34m██████████\u001b[0m| 00:12 Sampling completed                       "
     ]
    },
    {
     "name": "stdout",
     "output_type": "stream",
     "text": [
      "                                                                                                                                                                                                                                                                                                                                "
     ]
    },
    {
     "name": "stderr",
     "output_type": "stream",
     "text": [
      "\n",
      "INFO:cmdstanpy:CmdStan done processing.\n"
     ]
    },
    {
     "name": "stdout",
     "output_type": "stream",
     "text": [
      "\n"
     ]
    }
   ],
   "source": [
    "nxm = []\n",
    "matrix_temp = X[:, 0:2]\n",
    "\n",
    "for i in matrix_temp:\n",
    "    vect = []\n",
    "    for j in i:\n",
    "        vect.append(j)\n",
    "    nxm.append(vect)\n",
    "\n",
    "code5_pred_2 = dict(N=N, K=2, y=np.array(y2_mean), X=nxm)\n",
    "pred_2_result = data_generator_code5.sample(data = code5_pred_2)"
   ]
  },
  {
   "cell_type": "markdown",
   "metadata": {},
   "source": [
    "3 predictor:"
   ]
  },
  {
   "cell_type": "code",
   "execution_count": 37,
   "metadata": {},
   "outputs": [
    {
     "name": "stderr",
     "output_type": "stream",
     "text": [
      "INFO:cmdstanpy:CmdStan start processing\n",
      "chain 1 |\u001b[33m          \u001b[0m| 00:00 Status\n",
      "\u001b[A\n",
      "\n",
      "chain 1 |\u001b[33m▉         \u001b[0m| 00:00 Iteration:    1 / 2000 [  0%]  (Warmup)\n",
      "\u001b[A\n",
      "\n",
      "chain 1 |\u001b[33m█▊        \u001b[0m| 00:00 Iteration:  200 / 2000 [ 10%]  (Warmup)\n",
      "chain 1 |\u001b[33m██▋       \u001b[0m| 00:00 Iteration:  400 / 2000 [ 20%]  (Warmup)\n",
      "\n",
      "\u001b[A\u001b[A\n",
      "chain 1 |\u001b[33m███▋      \u001b[0m| 00:00 Iteration:  600 / 2000 [ 30%]  (Warmup)\n",
      "\n",
      "\u001b[A\u001b[A\n",
      "chain 1 |\u001b[33m████▌     \u001b[0m| 00:00 Iteration:  800 / 2000 [ 40%]  (Warmup)\n",
      "\n",
      "\u001b[A\u001b[A\n",
      "\u001b[A\n",
      "\n",
      "chain 1 |\u001b[34m█████▉    \u001b[0m| 00:01 Iteration: 1001 / 2000 [ 50%]  (Sampling)\n",
      "\u001b[A\n",
      "\n",
      "chain 1 |\u001b[34m██████▊   \u001b[0m| 00:04 Iteration: 1200 / 2000 [ 60%]  (Sampling)\n",
      "\u001b[A\n",
      "\n",
      "chain 1 |\u001b[34m███████▎  \u001b[0m| 00:05 Iteration: 1300 / 2000 [ 65%]  (Sampling)\n",
      "\u001b[A\n",
      "\n",
      "\u001b[A\u001b[A\n",
      "chain 1 |\u001b[34m███████▋  \u001b[0m| 00:06 Iteration: 1400 / 2000 [ 70%]  (Sampling)\n",
      "\n",
      "\u001b[A\u001b[A\n",
      "chain 1 |\u001b[34m████████▏ \u001b[0m| 00:07 Iteration: 1500 / 2000 [ 75%]  (Sampling)\n",
      "\n",
      "\u001b[A\u001b[A\n",
      "chain 1 |\u001b[34m████████▋ \u001b[0m| 00:08 Iteration: 1600 / 2000 [ 80%]  (Sampling)\n",
      "\n",
      "\u001b[A\u001b[A\n",
      "chain 1 |\u001b[34m█████████ \u001b[0m| 00:09 Iteration: 1700 / 2000 [ 85%]  (Sampling)\n",
      "\n",
      "\u001b[A\u001b[A\n",
      "chain 1 |\u001b[34m█████████▌\u001b[0m| 00:11 Iteration: 1800 / 2000 [ 90%]  (Sampling)\n",
      "\n",
      "\u001b[A\u001b[A\n",
      "chain 1 |\u001b[34m██████████\u001b[0m| 00:12 Iteration: 1900 / 2000 [ 95%]  (Sampling)\n",
      "\n",
      "chain 1 |\u001b[34m██████████\u001b[0m| 00:12 Sampling completed                       \n",
      "chain 2 |\u001b[34m██████████\u001b[0m| 00:12 Sampling completed                       \n",
      "chain 3 |\u001b[34m██████████\u001b[0m| 00:12 Sampling completed                       \n",
      "chain 4 |\u001b[34m██████████\u001b[0m| 00:12 Sampling completed                       "
     ]
    },
    {
     "name": "stdout",
     "output_type": "stream",
     "text": [
      "                                                                                                                                                                                                                                                                                                                                "
     ]
    },
    {
     "name": "stderr",
     "output_type": "stream",
     "text": [
      "\n",
      "INFO:cmdstanpy:CmdStan done processing.\n"
     ]
    },
    {
     "name": "stdout",
     "output_type": "stream",
     "text": [
      "\n"
     ]
    }
   ],
   "source": [
    "nxm = []\n",
    "matrix_temp = X[:,0:3]\n",
    "\n",
    "for i in matrix_temp:\n",
    "    vect = []\n",
    "    for j in i:\n",
    "        vect.append(j)\n",
    "    nxm.append(vect)\n",
    "\n",
    "code5_pred_3 = dict(N=N, K=3, y=np.array(y2_mean), X=nxm)\n",
    "pred_3_result = data_generator_code5.sample(data = code5_pred_3)"
   ]
  },
  {
   "cell_type": "code",
   "execution_count": 38,
   "metadata": {},
   "outputs": [
    {
     "data": {
      "text/plain": [
       "Computed from 4000 by 1600 log-likelihood matrix\n",
       "\n",
       "         Estimate       SE\n",
       "elpd_loo  2912.61    27.55\n",
       "p_loo        1.90        -"
      ]
     },
     "execution_count": 38,
     "metadata": {},
     "output_type": "execute_result"
    }
   ],
   "source": [
    "az.loo(pred_1_result)"
   ]
  },
  {
   "cell_type": "code",
   "execution_count": 39,
   "metadata": {},
   "outputs": [
    {
     "data": {
      "text/plain": [
       "Computed from 4000 by 1600 log-likelihood matrix\n",
       "\n",
       "         Estimate       SE\n",
       "elpd_loo  2912.55    27.46\n",
       "p_loo        2.96        -"
      ]
     },
     "execution_count": 39,
     "metadata": {},
     "output_type": "execute_result"
    }
   ],
   "source": [
    "az.loo(pred_2_result)"
   ]
  },
  {
   "cell_type": "code",
   "execution_count": 40,
   "metadata": {},
   "outputs": [
    {
     "data": {
      "text/plain": [
       "Computed from 4000 by 1600 log-likelihood matrix\n",
       "\n",
       "         Estimate       SE\n",
       "elpd_loo  2911.40    27.49\n",
       "p_loo        4.11        -"
      ]
     },
     "execution_count": 40,
     "metadata": {},
     "output_type": "execute_result"
    }
   ],
   "source": [
    "az.loo(pred_3_result)"
   ]
  },
  {
   "cell_type": "code",
   "execution_count": 41,
   "metadata": {},
   "outputs": [
    {
     "data": {
      "text/plain": [
       "Computed from 4000 by 1600 log-likelihood matrix\n",
       "\n",
       "          Estimate       SE\n",
       "elpd_waic  2912.61    27.55\n",
       "p_waic        1.90        -"
      ]
     },
     "execution_count": 41,
     "metadata": {},
     "output_type": "execute_result"
    }
   ],
   "source": [
    "az.waic(pred_1_result)"
   ]
  },
  {
   "cell_type": "code",
   "execution_count": 42,
   "metadata": {},
   "outputs": [
    {
     "data": {
      "text/plain": [
       "Computed from 4000 by 1600 log-likelihood matrix\n",
       "\n",
       "          Estimate       SE\n",
       "elpd_waic  2912.55    27.46\n",
       "p_waic        2.96        -"
      ]
     },
     "execution_count": 42,
     "metadata": {},
     "output_type": "execute_result"
    }
   ],
   "source": [
    "az.waic(pred_2_result)"
   ]
  },
  {
   "cell_type": "code",
   "execution_count": 43,
   "metadata": {},
   "outputs": [
    {
     "data": {
      "text/plain": [
       "Computed from 4000 by 1600 log-likelihood matrix\n",
       "\n",
       "          Estimate       SE\n",
       "elpd_waic  2911.40    27.49\n",
       "p_waic        4.11        -"
      ]
     },
     "execution_count": 43,
     "metadata": {},
     "output_type": "execute_result"
    }
   ],
   "source": [
    "az.waic(pred_3_result)"
   ]
  },
  {
   "cell_type": "code",
   "execution_count": 44,
   "metadata": {},
   "outputs": [
    {
     "name": "stderr",
     "output_type": "stream",
     "text": [
      "c:\\Users\\igach\\AppData\\Local\\Programs\\Python\\Python310\\lib\\site-packages\\arviz\\stats\\stats.py:248: FutureWarning: The frame.append method is deprecated and will be removed from pandas in a future version. Use pandas.concat instead.\n",
      "  ics = ics.append([ic_func(dataset, pointwise=True, scale=scale, var_name=var_name)])\n",
      "c:\\Users\\igach\\AppData\\Local\\Programs\\Python\\Python310\\lib\\site-packages\\arviz\\stats\\stats.py:248: FutureWarning: The frame.append method is deprecated and will be removed from pandas in a future version. Use pandas.concat instead.\n",
      "  ics = ics.append([ic_func(dataset, pointwise=True, scale=scale, var_name=var_name)])\n",
      "c:\\Users\\igach\\AppData\\Local\\Programs\\Python\\Python310\\lib\\site-packages\\arviz\\stats\\stats.py:248: FutureWarning: The frame.append method is deprecated and will be removed from pandas in a future version. Use pandas.concat instead.\n",
      "  ics = ics.append([ic_func(dataset, pointwise=True, scale=scale, var_name=var_name)])\n"
     ]
    },
    {
     "data": {
      "text/html": [
       "<div>\n",
       "<style scoped>\n",
       "    .dataframe tbody tr th:only-of-type {\n",
       "        vertical-align: middle;\n",
       "    }\n",
       "\n",
       "    .dataframe tbody tr th {\n",
       "        vertical-align: top;\n",
       "    }\n",
       "\n",
       "    .dataframe thead th {\n",
       "        text-align: right;\n",
       "    }\n",
       "</style>\n",
       "<table border=\"1\" class=\"dataframe\">\n",
       "  <thead>\n",
       "    <tr style=\"text-align: right;\">\n",
       "      <th></th>\n",
       "      <th>rank</th>\n",
       "      <th>loo</th>\n",
       "      <th>p_loo</th>\n",
       "      <th>d_loo</th>\n",
       "      <th>weight</th>\n",
       "      <th>se</th>\n",
       "      <th>dse</th>\n",
       "      <th>warning</th>\n",
       "      <th>loo_scale</th>\n",
       "    </tr>\n",
       "  </thead>\n",
       "  <tbody>\n",
       "    <tr>\n",
       "      <th>1</th>\n",
       "      <td>0</td>\n",
       "      <td>2912.614487</td>\n",
       "      <td>1.903657</td>\n",
       "      <td>0.000000</td>\n",
       "      <td>0.531184</td>\n",
       "      <td>27.549341</td>\n",
       "      <td>0.000000</td>\n",
       "      <td>False</td>\n",
       "      <td>log</td>\n",
       "    </tr>\n",
       "    <tr>\n",
       "      <th>2</th>\n",
       "      <td>1</td>\n",
       "      <td>2912.553175</td>\n",
       "      <td>2.961650</td>\n",
       "      <td>0.061312</td>\n",
       "      <td>0.468816</td>\n",
       "      <td>27.458123</td>\n",
       "      <td>1.415931</td>\n",
       "      <td>False</td>\n",
       "      <td>log</td>\n",
       "    </tr>\n",
       "    <tr>\n",
       "      <th>3</th>\n",
       "      <td>2</td>\n",
       "      <td>2911.395087</td>\n",
       "      <td>4.113301</td>\n",
       "      <td>1.219400</td>\n",
       "      <td>0.000000</td>\n",
       "      <td>27.486274</td>\n",
       "      <td>1.444961</td>\n",
       "      <td>False</td>\n",
       "      <td>log</td>\n",
       "    </tr>\n",
       "  </tbody>\n",
       "</table>\n",
       "</div>"
      ],
      "text/plain": [
       "   rank          loo     p_loo     d_loo    weight         se       dse  \\\n",
       "1     0  2912.614487  1.903657  0.000000  0.531184  27.549341  0.000000   \n",
       "2     1  2912.553175  2.961650  0.061312  0.468816  27.458123  1.415931   \n",
       "3     2  2911.395087  4.113301  1.219400  0.000000  27.486274  1.444961   \n",
       "\n",
       "   warning loo_scale  \n",
       "1    False       log  \n",
       "2    False       log  \n",
       "3    False       log  "
      ]
     },
     "execution_count": 44,
     "metadata": {},
     "output_type": "execute_result"
    }
   ],
   "source": [
    "code5_compare_pred_1 = az.from_cmdstanpy(pred_1_result)\n",
    "code5_compare_pred_2 = az.from_cmdstanpy(pred_2_result)\n",
    "code5_compare_pred_3 = az.from_cmdstanpy(pred_3_result)\n",
    "\n",
    "compare_result_model5 = az.compare({\"1\":code5_compare_pred_1, \"2\":code5_compare_pred_2, \"3\":code5_compare_pred_3})\n",
    "compare_result_model5"
   ]
  },
  {
   "cell_type": "code",
   "execution_count": 45,
   "metadata": {},
   "outputs": [
    {
     "data": {
      "text/plain": [
       "<AxesSubplot:xlabel='Log'>"
      ]
     },
     "execution_count": 45,
     "metadata": {},
     "output_type": "execute_result"
    },
    {
     "data": {
      "image/png": "[encoded data removed]",
      "text/plain": [
       "<Figure size 432x216 with 1 Axes>"
      ]
     },
     "metadata": {
      "needs_background": "light"
     },
     "output_type": "display_data"
    }
   ],
   "source": [
    "az.plot_compare(compare_result_model5)"
   ]
  }
 ],
 "metadata": {
  "interpreter": {
   "hash": "46f483167a09b22be2b898a042c5c1a13a22d7de263fb041cfbb484b78f7661a"
  },
  "kernelspec": {
   "display_name": "Python 3.10.2 64-bit",
   "language": "python",
   "name": "python3"
  },
  "language_info": {
   "codemirror_mode": {
    "name": "ipython",
    "version": 3
   },
   "file_extension": ".py",
   "mimetype": "text/x-python",
   "name": "python",
   "nbconvert_exporter": "python",
   "pygments_lexer": "ipython3",
   "version": "3.10.2"
  },
  "orig_nbformat": 4
 },
 "nbformat": 4,
 "nbformat_minor": 2
}
