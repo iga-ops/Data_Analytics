{
  "nbformat": 4,
  "nbformat_minor": 0,
  "metadata": {
    "colab": {
      "name": "Topic_1.ipynb",
      "provenance": [],
      "collapsed_sections": []
    },
    "kernelspec": {
      "name": "python3",
      "display_name": "Python 3"
    },
    "language_info": {
      "name": "python"
    }
  },
  "cells": [
    {
      "cell_type": "code",
      "source": [
        "!pip install scipy"
      ],
      "metadata": {
        "colab": {
          "base_uri": "https://localhost:8080/"
        },
        "id": "mg6sXI96ssNT",
        "outputId": "cc965e7b-18e4-4340-e1b1-7e871d544315"
      },
      "execution_count": null,
      "outputs": [
        {
          "output_type": "stream",
          "name": "stdout",
          "text": [
            "Requirement already satisfied: scipy in /usr/local/lib/python3.7/dist-packages (1.4.1)\n",
            "Requirement already satisfied: numpy>=1.13.3 in /usr/local/lib/python3.7/dist-packages (from scipy) (1.21.5)\n"
          ]
        }
      ]
    },
    {
      "cell_type": "code",
      "execution_count": 25,
      "metadata": {
        "id": "3wEK6VgLrtUS"
      },
      "outputs": [],
      "source": [
        "import cmdstanpy\n",
        "import arviz as az\n",
        "import matplotlib\n",
        "import pandas as pd\n",
        "import numpy as np\n",
        "import matplotlib.pyplot as plt"
      ]
    },
    {
      "cell_type": "markdown",
      "source": [
        "# **Excercise 1**\n",
        "### Review of data wrangling and visualization in Python"
      ],
      "metadata": {
        "id": "8K8qZ4TdurVA"
      }
    },
    {
      "cell_type": "markdown",
      "source": [
        "Import Data1.csv file to python."
      ],
      "metadata": {
        "id": "TiBl5tGnuvi9"
      }
    },
    {
      "cell_type": "code",
      "source": [
        "data = pd.read_csv(\"/content/drive/MyDrive/Data_Analytics/Data1.csv\")"
      ],
      "metadata": {
        "id": "TIr-3wTcsHnB"
      },
      "execution_count": 26,
      "outputs": []
    },
    {
      "cell_type": "markdown",
      "source": [
        "Set first column as the index."
      ],
      "metadata": {
        "id": "OADn9_yYuy21"
      }
    },
    {
      "cell_type": "code",
      "source": [
        "data.head(10)"
      ],
      "metadata": {
        "colab": {
          "base_uri": "https://localhost:8080/",
          "height": 363
        },
        "id": "OGr795EBvnSw",
        "outputId": "d3a54ef8-59cf-4f47-fbaa-54b7746942da"
      },
      "execution_count": null,
      "outputs": [
        {
          "output_type": "execute_result",
          "data": {
            "text/html": [
              "\n",
              "  <div id=\"df-9033ef5d-08da-4fa7-bf97-8fc140d62e22\">\n",
              "    <div class=\"colab-df-container\">\n",
              "      <div>\n",
              "<style scoped>\n",
              "    .dataframe tbody tr th:only-of-type {\n",
              "        vertical-align: middle;\n",
              "    }\n",
              "\n",
              "    .dataframe tbody tr th {\n",
              "        vertical-align: top;\n",
              "    }\n",
              "\n",
              "    .dataframe thead th {\n",
              "        text-align: right;\n",
              "    }\n",
              "</style>\n",
              "<table border=\"1\" class=\"dataframe\">\n",
              "  <thead>\n",
              "    <tr style=\"text-align: right;\">\n",
              "      <th></th>\n",
              "      <th>Unnamed: 0</th>\n",
              "      <th>theta_1</th>\n",
              "      <th>theta_2</th>\n",
              "      <th>theta_3</th>\n",
              "      <th>theta_4</th>\n",
              "      <th>theta_5</th>\n",
              "      <th>theta_6</th>\n",
              "    </tr>\n",
              "  </thead>\n",
              "  <tbody>\n",
              "    <tr>\n",
              "      <th>0</th>\n",
              "      <td>2017-01-01</td>\n",
              "      <td>0.756936</td>\n",
              "      <td>-1.467790</td>\n",
              "      <td>0.096136</td>\n",
              "      <td>-0.115306</td>\n",
              "      <td>-0.447908</td>\n",
              "      <td>0.902579</td>\n",
              "    </tr>\n",
              "    <tr>\n",
              "      <th>1</th>\n",
              "      <td>2017-01-02</td>\n",
              "      <td>0.767089</td>\n",
              "      <td>0.185797</td>\n",
              "      <td>-1.428536</td>\n",
              "      <td>-0.086443</td>\n",
              "      <td>-0.954288</td>\n",
              "      <td>1.930909</td>\n",
              "    </tr>\n",
              "    <tr>\n",
              "      <th>2</th>\n",
              "      <td>2017-01-03</td>\n",
              "      <td>0.404544</td>\n",
              "      <td>1.415887</td>\n",
              "      <td>0.443466</td>\n",
              "      <td>0.000200</td>\n",
              "      <td>-0.892351</td>\n",
              "      <td>2.449691</td>\n",
              "    </tr>\n",
              "    <tr>\n",
              "      <th>3</th>\n",
              "      <td>2017-01-04</td>\n",
              "      <td>1.313957</td>\n",
              "      <td>-1.804471</td>\n",
              "      <td>-0.836986</td>\n",
              "      <td>0.011785</td>\n",
              "      <td>-1.012518</td>\n",
              "      <td>1.182085</td>\n",
              "    </tr>\n",
              "    <tr>\n",
              "      <th>4</th>\n",
              "      <td>2017-01-05</td>\n",
              "      <td>0.209862</td>\n",
              "      <td>1.315868</td>\n",
              "      <td>0.140993</td>\n",
              "      <td>-0.046473</td>\n",
              "      <td>-1.417092</td>\n",
              "      <td>1.742433</td>\n",
              "    </tr>\n",
              "    <tr>\n",
              "      <th>5</th>\n",
              "      <td>2017-01-06</td>\n",
              "      <td>-0.671767</td>\n",
              "      <td>-1.554742</td>\n",
              "      <td>2.933988</td>\n",
              "      <td>0.007891</td>\n",
              "      <td>-0.672258</td>\n",
              "      <td>0.562830</td>\n",
              "    </tr>\n",
              "    <tr>\n",
              "      <th>6</th>\n",
              "      <td>2017-01-07</td>\n",
              "      <td>-0.959496</td>\n",
              "      <td>3.023571</td>\n",
              "      <td>-0.856280</td>\n",
              "      <td>-0.001144</td>\n",
              "      <td>-1.229958</td>\n",
              "      <td>-0.187138</td>\n",
              "    </tr>\n",
              "    <tr>\n",
              "      <th>7</th>\n",
              "      <td>2017-01-08</td>\n",
              "      <td>-0.191306</td>\n",
              "      <td>-3.130415</td>\n",
              "      <td>-0.256385</td>\n",
              "      <td>0.078293</td>\n",
              "      <td>-0.725807</td>\n",
              "      <td>0.785517</td>\n",
              "    </tr>\n",
              "    <tr>\n",
              "      <th>8</th>\n",
              "      <td>2017-01-09</td>\n",
              "      <td>-0.377351</td>\n",
              "      <td>-2.506434</td>\n",
              "      <td>-0.291662</td>\n",
              "      <td>-0.032130</td>\n",
              "      <td>-0.768863</td>\n",
              "      <td>-1.657719</td>\n",
              "    </tr>\n",
              "    <tr>\n",
              "      <th>9</th>\n",
              "      <td>2017-01-10</td>\n",
              "      <td>1.091997</td>\n",
              "      <td>1.006235</td>\n",
              "      <td>3.540325</td>\n",
              "      <td>0.012692</td>\n",
              "      <td>-0.662433</td>\n",
              "      <td>0.088907</td>\n",
              "    </tr>\n",
              "  </tbody>\n",
              "</table>\n",
              "</div>\n",
              "      <button class=\"colab-df-convert\" onclick=\"convertToInteractive('df-9033ef5d-08da-4fa7-bf97-8fc140d62e22')\"\n",
              "              title=\"Convert this dataframe to an interactive table.\"\n",
              "              style=\"display:none;\">\n",
              "        \n",
              "  <svg xmlns=\"http://www.w3.org/2000/svg\" height=\"24px\"viewBox=\"0 0 24 24\"\n",
              "       width=\"24px\">\n",
              "    <path d=\"M0 0h24v24H0V0z\" fill=\"none\"/>\n",
              "    <path d=\"M18.56 5.44l.94 2.06.94-2.06 2.06-.94-2.06-.94-.94-2.06-.94 2.06-2.06.94zm-11 1L8.5 8.5l.94-2.06 2.06-.94-2.06-.94L8.5 2.5l-.94 2.06-2.06.94zm10 10l.94 2.06.94-2.06 2.06-.94-2.06-.94-.94-2.06-.94 2.06-2.06.94z\"/><path d=\"M17.41 7.96l-1.37-1.37c-.4-.4-.92-.59-1.43-.59-.52 0-1.04.2-1.43.59L10.3 9.45l-7.72 7.72c-.78.78-.78 2.05 0 2.83L4 21.41c.39.39.9.59 1.41.59.51 0 1.02-.2 1.41-.59l7.78-7.78 2.81-2.81c.8-.78.8-2.07 0-2.86zM5.41 20L4 18.59l7.72-7.72 1.47 1.35L5.41 20z\"/>\n",
              "  </svg>\n",
              "      </button>\n",
              "      \n",
              "  <style>\n",
              "    .colab-df-container {\n",
              "      display:flex;\n",
              "      flex-wrap:wrap;\n",
              "      gap: 12px;\n",
              "    }\n",
              "\n",
              "    .colab-df-convert {\n",
              "      background-color: #E8F0FE;\n",
              "      border: none;\n",
              "      border-radius: 50%;\n",
              "      cursor: pointer;\n",
              "      display: none;\n",
              "      fill: #1967D2;\n",
              "      height: 32px;\n",
              "      padding: 0 0 0 0;\n",
              "      width: 32px;\n",
              "    }\n",
              "\n",
              "    .colab-df-convert:hover {\n",
              "      background-color: #E2EBFA;\n",
              "      box-shadow: 0px 1px 2px rgba(60, 64, 67, 0.3), 0px 1px 3px 1px rgba(60, 64, 67, 0.15);\n",
              "      fill: #174EA6;\n",
              "    }\n",
              "\n",
              "    [theme=dark] .colab-df-convert {\n",
              "      background-color: #3B4455;\n",
              "      fill: #D2E3FC;\n",
              "    }\n",
              "\n",
              "    [theme=dark] .colab-df-convert:hover {\n",
              "      background-color: #434B5C;\n",
              "      box-shadow: 0px 1px 3px 1px rgba(0, 0, 0, 0.15);\n",
              "      filter: drop-shadow(0px 1px 2px rgba(0, 0, 0, 0.3));\n",
              "      fill: #FFFFFF;\n",
              "    }\n",
              "  </style>\n",
              "\n",
              "      <script>\n",
              "        const buttonEl =\n",
              "          document.querySelector('#df-9033ef5d-08da-4fa7-bf97-8fc140d62e22 button.colab-df-convert');\n",
              "        buttonEl.style.display =\n",
              "          google.colab.kernel.accessAllowed ? 'block' : 'none';\n",
              "\n",
              "        async function convertToInteractive(key) {\n",
              "          const element = document.querySelector('#df-9033ef5d-08da-4fa7-bf97-8fc140d62e22');\n",
              "          const dataTable =\n",
              "            await google.colab.kernel.invokeFunction('convertToInteractive',\n",
              "                                                     [key], {});\n",
              "          if (!dataTable) return;\n",
              "\n",
              "          const docLinkHtml = 'Like what you see? Visit the ' +\n",
              "            '<a target=\"_blank\" href=https://colab.research.google.com/notebooks/data_table.ipynb>data table notebook</a>'\n",
              "            + ' to learn more about interactive tables.';\n",
              "          element.innerHTML = '';\n",
              "          dataTable['output_type'] = 'display_data';\n",
              "          await google.colab.output.renderOutput(dataTable, element);\n",
              "          const docLink = document.createElement('div');\n",
              "          docLink.innerHTML = docLinkHtml;\n",
              "          element.appendChild(docLink);\n",
              "        }\n",
              "      </script>\n",
              "    </div>\n",
              "  </div>\n",
              "  "
            ],
            "text/plain": [
              "   Unnamed: 0   theta_1   theta_2   theta_3   theta_4   theta_5   theta_6\n",
              "0  2017-01-01  0.756936 -1.467790  0.096136 -0.115306 -0.447908  0.902579\n",
              "1  2017-01-02  0.767089  0.185797 -1.428536 -0.086443 -0.954288  1.930909\n",
              "2  2017-01-03  0.404544  1.415887  0.443466  0.000200 -0.892351  2.449691\n",
              "3  2017-01-04  1.313957 -1.804471 -0.836986  0.011785 -1.012518  1.182085\n",
              "4  2017-01-05  0.209862  1.315868  0.140993 -0.046473 -1.417092  1.742433\n",
              "5  2017-01-06 -0.671767 -1.554742  2.933988  0.007891 -0.672258  0.562830\n",
              "6  2017-01-07 -0.959496  3.023571 -0.856280 -0.001144 -1.229958 -0.187138\n",
              "7  2017-01-08 -0.191306 -3.130415 -0.256385  0.078293 -0.725807  0.785517\n",
              "8  2017-01-09 -0.377351 -2.506434 -0.291662 -0.032130 -0.768863 -1.657719\n",
              "9  2017-01-10  1.091997  1.006235  3.540325  0.012692 -0.662433  0.088907"
            ]
          },
          "metadata": {},
          "execution_count": 9
        }
      ]
    },
    {
      "cell_type": "code",
      "source": [
        "data.set_index(\"Unnamed: 0\")"
      ],
      "metadata": {
        "colab": {
          "base_uri": "https://localhost:8080/",
          "height": 455
        },
        "id": "g7nmBeK0uiy7",
        "outputId": "695b2de9-eefd-4286-feee-398d344b88d4"
      },
      "execution_count": 27,
      "outputs": [
        {
          "output_type": "execute_result",
          "data": {
            "text/html": [
              "\n",
              "  <div id=\"df-032823b7-13bf-499f-acf6-7f8de37cbb98\">\n",
              "    <div class=\"colab-df-container\">\n",
              "      <div>\n",
              "<style scoped>\n",
              "    .dataframe tbody tr th:only-of-type {\n",
              "        vertical-align: middle;\n",
              "    }\n",
              "\n",
              "    .dataframe tbody tr th {\n",
              "        vertical-align: top;\n",
              "    }\n",
              "\n",
              "    .dataframe thead th {\n",
              "        text-align: right;\n",
              "    }\n",
              "</style>\n",
              "<table border=\"1\" class=\"dataframe\">\n",
              "  <thead>\n",
              "    <tr style=\"text-align: right;\">\n",
              "      <th></th>\n",
              "      <th>theta_1</th>\n",
              "      <th>theta_2</th>\n",
              "      <th>theta_3</th>\n",
              "      <th>theta_4</th>\n",
              "      <th>theta_5</th>\n",
              "      <th>theta_6</th>\n",
              "    </tr>\n",
              "    <tr>\n",
              "      <th>Unnamed: 0</th>\n",
              "      <th></th>\n",
              "      <th></th>\n",
              "      <th></th>\n",
              "      <th></th>\n",
              "      <th></th>\n",
              "      <th></th>\n",
              "    </tr>\n",
              "  </thead>\n",
              "  <tbody>\n",
              "    <tr>\n",
              "      <th>2017-01-01</th>\n",
              "      <td>0.756936</td>\n",
              "      <td>-1.467790</td>\n",
              "      <td>0.096136</td>\n",
              "      <td>-0.115306</td>\n",
              "      <td>-0.447908</td>\n",
              "      <td>0.902579</td>\n",
              "    </tr>\n",
              "    <tr>\n",
              "      <th>2017-01-02</th>\n",
              "      <td>0.767089</td>\n",
              "      <td>0.185797</td>\n",
              "      <td>-1.428536</td>\n",
              "      <td>-0.086443</td>\n",
              "      <td>-0.954288</td>\n",
              "      <td>1.930909</td>\n",
              "    </tr>\n",
              "    <tr>\n",
              "      <th>2017-01-03</th>\n",
              "      <td>0.404544</td>\n",
              "      <td>1.415887</td>\n",
              "      <td>0.443466</td>\n",
              "      <td>0.000200</td>\n",
              "      <td>-0.892351</td>\n",
              "      <td>2.449691</td>\n",
              "    </tr>\n",
              "    <tr>\n",
              "      <th>2017-01-04</th>\n",
              "      <td>1.313957</td>\n",
              "      <td>-1.804471</td>\n",
              "      <td>-0.836986</td>\n",
              "      <td>0.011785</td>\n",
              "      <td>-1.012518</td>\n",
              "      <td>1.182085</td>\n",
              "    </tr>\n",
              "    <tr>\n",
              "      <th>2017-01-05</th>\n",
              "      <td>0.209862</td>\n",
              "      <td>1.315868</td>\n",
              "      <td>0.140993</td>\n",
              "      <td>-0.046473</td>\n",
              "      <td>-1.417092</td>\n",
              "      <td>1.742433</td>\n",
              "    </tr>\n",
              "    <tr>\n",
              "      <th>...</th>\n",
              "      <td>...</td>\n",
              "      <td>...</td>\n",
              "      <td>...</td>\n",
              "      <td>...</td>\n",
              "      <td>...</td>\n",
              "      <td>...</td>\n",
              "    </tr>\n",
              "    <tr>\n",
              "      <th>2019-12-27</th>\n",
              "      <td>-1.520171</td>\n",
              "      <td>-1.128868</td>\n",
              "      <td>1.108275</td>\n",
              "      <td>0.936817</td>\n",
              "      <td>0.948045</td>\n",
              "      <td>11.755980</td>\n",
              "    </tr>\n",
              "    <tr>\n",
              "      <th>2019-12-28</th>\n",
              "      <td>0.338910</td>\n",
              "      <td>-3.178251</td>\n",
              "      <td>1.484579</td>\n",
              "      <td>1.051123</td>\n",
              "      <td>1.025288</td>\n",
              "      <td>11.397092</td>\n",
              "    </tr>\n",
              "    <tr>\n",
              "      <th>2019-12-29</th>\n",
              "      <td>0.263781</td>\n",
              "      <td>0.045725</td>\n",
              "      <td>-0.112476</td>\n",
              "      <td>0.823782</td>\n",
              "      <td>0.914111</td>\n",
              "      <td>10.918941</td>\n",
              "    </tr>\n",
              "    <tr>\n",
              "      <th>2019-12-30</th>\n",
              "      <td>-0.425098</td>\n",
              "      <td>-1.002701</td>\n",
              "      <td>-0.834294</td>\n",
              "      <td>0.850904</td>\n",
              "      <td>0.801977</td>\n",
              "      <td>11.140722</td>\n",
              "    </tr>\n",
              "    <tr>\n",
              "      <th>2019-12-31</th>\n",
              "      <td>0.848302</td>\n",
              "      <td>3.510521</td>\n",
              "      <td>-0.280626</td>\n",
              "      <td>0.967050</td>\n",
              "      <td>1.091803</td>\n",
              "      <td>11.989975</td>\n",
              "    </tr>\n",
              "  </tbody>\n",
              "</table>\n",
              "<p>1095 rows × 6 columns</p>\n",
              "</div>\n",
              "      <button class=\"colab-df-convert\" onclick=\"convertToInteractive('df-032823b7-13bf-499f-acf6-7f8de37cbb98')\"\n",
              "              title=\"Convert this dataframe to an interactive table.\"\n",
              "              style=\"display:none;\">\n",
              "        \n",
              "  <svg xmlns=\"http://www.w3.org/2000/svg\" height=\"24px\"viewBox=\"0 0 24 24\"\n",
              "       width=\"24px\">\n",
              "    <path d=\"M0 0h24v24H0V0z\" fill=\"none\"/>\n",
              "    <path d=\"M18.56 5.44l.94 2.06.94-2.06 2.06-.94-2.06-.94-.94-2.06-.94 2.06-2.06.94zm-11 1L8.5 8.5l.94-2.06 2.06-.94-2.06-.94L8.5 2.5l-.94 2.06-2.06.94zm10 10l.94 2.06.94-2.06 2.06-.94-2.06-.94-.94-2.06-.94 2.06-2.06.94z\"/><path d=\"M17.41 7.96l-1.37-1.37c-.4-.4-.92-.59-1.43-.59-.52 0-1.04.2-1.43.59L10.3 9.45l-7.72 7.72c-.78.78-.78 2.05 0 2.83L4 21.41c.39.39.9.59 1.41.59.51 0 1.02-.2 1.41-.59l7.78-7.78 2.81-2.81c.8-.78.8-2.07 0-2.86zM5.41 20L4 18.59l7.72-7.72 1.47 1.35L5.41 20z\"/>\n",
              "  </svg>\n",
              "      </button>\n",
              "      \n",
              "  <style>\n",
              "    .colab-df-container {\n",
              "      display:flex;\n",
              "      flex-wrap:wrap;\n",
              "      gap: 12px;\n",
              "    }\n",
              "\n",
              "    .colab-df-convert {\n",
              "      background-color: #E8F0FE;\n",
              "      border: none;\n",
              "      border-radius: 50%;\n",
              "      cursor: pointer;\n",
              "      display: none;\n",
              "      fill: #1967D2;\n",
              "      height: 32px;\n",
              "      padding: 0 0 0 0;\n",
              "      width: 32px;\n",
              "    }\n",
              "\n",
              "    .colab-df-convert:hover {\n",
              "      background-color: #E2EBFA;\n",
              "      box-shadow: 0px 1px 2px rgba(60, 64, 67, 0.3), 0px 1px 3px 1px rgba(60, 64, 67, 0.15);\n",
              "      fill: #174EA6;\n",
              "    }\n",
              "\n",
              "    [theme=dark] .colab-df-convert {\n",
              "      background-color: #3B4455;\n",
              "      fill: #D2E3FC;\n",
              "    }\n",
              "\n",
              "    [theme=dark] .colab-df-convert:hover {\n",
              "      background-color: #434B5C;\n",
              "      box-shadow: 0px 1px 3px 1px rgba(0, 0, 0, 0.15);\n",
              "      filter: drop-shadow(0px 1px 2px rgba(0, 0, 0, 0.3));\n",
              "      fill: #FFFFFF;\n",
              "    }\n",
              "  </style>\n",
              "\n",
              "      <script>\n",
              "        const buttonEl =\n",
              "          document.querySelector('#df-032823b7-13bf-499f-acf6-7f8de37cbb98 button.colab-df-convert');\n",
              "        buttonEl.style.display =\n",
              "          google.colab.kernel.accessAllowed ? 'block' : 'none';\n",
              "\n",
              "        async function convertToInteractive(key) {\n",
              "          const element = document.querySelector('#df-032823b7-13bf-499f-acf6-7f8de37cbb98');\n",
              "          const dataTable =\n",
              "            await google.colab.kernel.invokeFunction('convertToInteractive',\n",
              "                                                     [key], {});\n",
              "          if (!dataTable) return;\n",
              "\n",
              "          const docLinkHtml = 'Like what you see? Visit the ' +\n",
              "            '<a target=\"_blank\" href=https://colab.research.google.com/notebooks/data_table.ipynb>data table notebook</a>'\n",
              "            + ' to learn more about interactive tables.';\n",
              "          element.innerHTML = '';\n",
              "          dataTable['output_type'] = 'display_data';\n",
              "          await google.colab.output.renderOutput(dataTable, element);\n",
              "          const docLink = document.createElement('div');\n",
              "          docLink.innerHTML = docLinkHtml;\n",
              "          element.appendChild(docLink);\n",
              "        }\n",
              "      </script>\n",
              "    </div>\n",
              "  </div>\n",
              "  "
            ],
            "text/plain": [
              "             theta_1   theta_2   theta_3   theta_4   theta_5    theta_6\n",
              "Unnamed: 0                                                             \n",
              "2017-01-01  0.756936 -1.467790  0.096136 -0.115306 -0.447908   0.902579\n",
              "2017-01-02  0.767089  0.185797 -1.428536 -0.086443 -0.954288   1.930909\n",
              "2017-01-03  0.404544  1.415887  0.443466  0.000200 -0.892351   2.449691\n",
              "2017-01-04  1.313957 -1.804471 -0.836986  0.011785 -1.012518   1.182085\n",
              "2017-01-05  0.209862  1.315868  0.140993 -0.046473 -1.417092   1.742433\n",
              "...              ...       ...       ...       ...       ...        ...\n",
              "2019-12-27 -1.520171 -1.128868  1.108275  0.936817  0.948045  11.755980\n",
              "2019-12-28  0.338910 -3.178251  1.484579  1.051123  1.025288  11.397092\n",
              "2019-12-29  0.263781  0.045725 -0.112476  0.823782  0.914111  10.918941\n",
              "2019-12-30 -0.425098 -1.002701 -0.834294  0.850904  0.801977  11.140722\n",
              "2019-12-31  0.848302  3.510521 -0.280626  0.967050  1.091803  11.989975\n",
              "\n",
              "[1095 rows x 6 columns]"
            ]
          },
          "metadata": {},
          "execution_count": 27
        }
      ]
    },
    {
      "cell_type": "code",
      "source": [
        "data.rename(columns={\"Unnamed: 0\": \"Date\"})"
      ],
      "metadata": {
        "colab": {
          "base_uri": "https://localhost:8080/",
          "height": 423
        },
        "id": "2B9maDER2O3y",
        "outputId": "34c31df4-0c3b-41f1-a30b-0433fc8af68c"
      },
      "execution_count": null,
      "outputs": [
        {
          "output_type": "execute_result",
          "data": {
            "text/html": [
              "\n",
              "  <div id=\"df-250d83aa-4b95-405d-8aa4-bfdb1de97423\">\n",
              "    <div class=\"colab-df-container\">\n",
              "      <div>\n",
              "<style scoped>\n",
              "    .dataframe tbody tr th:only-of-type {\n",
              "        vertical-align: middle;\n",
              "    }\n",
              "\n",
              "    .dataframe tbody tr th {\n",
              "        vertical-align: top;\n",
              "    }\n",
              "\n",
              "    .dataframe thead th {\n",
              "        text-align: right;\n",
              "    }\n",
              "</style>\n",
              "<table border=\"1\" class=\"dataframe\">\n",
              "  <thead>\n",
              "    <tr style=\"text-align: right;\">\n",
              "      <th></th>\n",
              "      <th>Date</th>\n",
              "      <th>theta_1</th>\n",
              "      <th>theta_2</th>\n",
              "      <th>theta_3</th>\n",
              "      <th>theta_4</th>\n",
              "      <th>theta_5</th>\n",
              "      <th>theta_6</th>\n",
              "    </tr>\n",
              "  </thead>\n",
              "  <tbody>\n",
              "    <tr>\n",
              "      <th>0</th>\n",
              "      <td>2017-01-01</td>\n",
              "      <td>0.756936</td>\n",
              "      <td>-1.467790</td>\n",
              "      <td>0.096136</td>\n",
              "      <td>-0.115306</td>\n",
              "      <td>-0.447908</td>\n",
              "      <td>0.902579</td>\n",
              "    </tr>\n",
              "    <tr>\n",
              "      <th>1</th>\n",
              "      <td>2017-01-02</td>\n",
              "      <td>0.767089</td>\n",
              "      <td>0.185797</td>\n",
              "      <td>-1.428536</td>\n",
              "      <td>-0.086443</td>\n",
              "      <td>-0.954288</td>\n",
              "      <td>1.930909</td>\n",
              "    </tr>\n",
              "    <tr>\n",
              "      <th>2</th>\n",
              "      <td>2017-01-03</td>\n",
              "      <td>0.404544</td>\n",
              "      <td>1.415887</td>\n",
              "      <td>0.443466</td>\n",
              "      <td>0.000200</td>\n",
              "      <td>-0.892351</td>\n",
              "      <td>2.449691</td>\n",
              "    </tr>\n",
              "    <tr>\n",
              "      <th>3</th>\n",
              "      <td>2017-01-04</td>\n",
              "      <td>1.313957</td>\n",
              "      <td>-1.804471</td>\n",
              "      <td>-0.836986</td>\n",
              "      <td>0.011785</td>\n",
              "      <td>-1.012518</td>\n",
              "      <td>1.182085</td>\n",
              "    </tr>\n",
              "    <tr>\n",
              "      <th>4</th>\n",
              "      <td>2017-01-05</td>\n",
              "      <td>0.209862</td>\n",
              "      <td>1.315868</td>\n",
              "      <td>0.140993</td>\n",
              "      <td>-0.046473</td>\n",
              "      <td>-1.417092</td>\n",
              "      <td>1.742433</td>\n",
              "    </tr>\n",
              "    <tr>\n",
              "      <th>...</th>\n",
              "      <td>...</td>\n",
              "      <td>...</td>\n",
              "      <td>...</td>\n",
              "      <td>...</td>\n",
              "      <td>...</td>\n",
              "      <td>...</td>\n",
              "      <td>...</td>\n",
              "    </tr>\n",
              "    <tr>\n",
              "      <th>1090</th>\n",
              "      <td>2019-12-27</td>\n",
              "      <td>-1.520171</td>\n",
              "      <td>-1.128868</td>\n",
              "      <td>1.108275</td>\n",
              "      <td>0.936817</td>\n",
              "      <td>0.948045</td>\n",
              "      <td>11.755980</td>\n",
              "    </tr>\n",
              "    <tr>\n",
              "      <th>1091</th>\n",
              "      <td>2019-12-28</td>\n",
              "      <td>0.338910</td>\n",
              "      <td>-3.178251</td>\n",
              "      <td>1.484579</td>\n",
              "      <td>1.051123</td>\n",
              "      <td>1.025288</td>\n",
              "      <td>11.397092</td>\n",
              "    </tr>\n",
              "    <tr>\n",
              "      <th>1092</th>\n",
              "      <td>2019-12-29</td>\n",
              "      <td>0.263781</td>\n",
              "      <td>0.045725</td>\n",
              "      <td>-0.112476</td>\n",
              "      <td>0.823782</td>\n",
              "      <td>0.914111</td>\n",
              "      <td>10.918941</td>\n",
              "    </tr>\n",
              "    <tr>\n",
              "      <th>1093</th>\n",
              "      <td>2019-12-30</td>\n",
              "      <td>-0.425098</td>\n",
              "      <td>-1.002701</td>\n",
              "      <td>-0.834294</td>\n",
              "      <td>0.850904</td>\n",
              "      <td>0.801977</td>\n",
              "      <td>11.140722</td>\n",
              "    </tr>\n",
              "    <tr>\n",
              "      <th>1094</th>\n",
              "      <td>2019-12-31</td>\n",
              "      <td>0.848302</td>\n",
              "      <td>3.510521</td>\n",
              "      <td>-0.280626</td>\n",
              "      <td>0.967050</td>\n",
              "      <td>1.091803</td>\n",
              "      <td>11.989975</td>\n",
              "    </tr>\n",
              "  </tbody>\n",
              "</table>\n",
              "<p>1095 rows × 7 columns</p>\n",
              "</div>\n",
              "      <button class=\"colab-df-convert\" onclick=\"convertToInteractive('df-250d83aa-4b95-405d-8aa4-bfdb1de97423')\"\n",
              "              title=\"Convert this dataframe to an interactive table.\"\n",
              "              style=\"display:none;\">\n",
              "        \n",
              "  <svg xmlns=\"http://www.w3.org/2000/svg\" height=\"24px\"viewBox=\"0 0 24 24\"\n",
              "       width=\"24px\">\n",
              "    <path d=\"M0 0h24v24H0V0z\" fill=\"none\"/>\n",
              "    <path d=\"M18.56 5.44l.94 2.06.94-2.06 2.06-.94-2.06-.94-.94-2.06-.94 2.06-2.06.94zm-11 1L8.5 8.5l.94-2.06 2.06-.94-2.06-.94L8.5 2.5l-.94 2.06-2.06.94zm10 10l.94 2.06.94-2.06 2.06-.94-2.06-.94-.94-2.06-.94 2.06-2.06.94z\"/><path d=\"M17.41 7.96l-1.37-1.37c-.4-.4-.92-.59-1.43-.59-.52 0-1.04.2-1.43.59L10.3 9.45l-7.72 7.72c-.78.78-.78 2.05 0 2.83L4 21.41c.39.39.9.59 1.41.59.51 0 1.02-.2 1.41-.59l7.78-7.78 2.81-2.81c.8-.78.8-2.07 0-2.86zM5.41 20L4 18.59l7.72-7.72 1.47 1.35L5.41 20z\"/>\n",
              "  </svg>\n",
              "      </button>\n",
              "      \n",
              "  <style>\n",
              "    .colab-df-container {\n",
              "      display:flex;\n",
              "      flex-wrap:wrap;\n",
              "      gap: 12px;\n",
              "    }\n",
              "\n",
              "    .colab-df-convert {\n",
              "      background-color: #E8F0FE;\n",
              "      border: none;\n",
              "      border-radius: 50%;\n",
              "      cursor: pointer;\n",
              "      display: none;\n",
              "      fill: #1967D2;\n",
              "      height: 32px;\n",
              "      padding: 0 0 0 0;\n",
              "      width: 32px;\n",
              "    }\n",
              "\n",
              "    .colab-df-convert:hover {\n",
              "      background-color: #E2EBFA;\n",
              "      box-shadow: 0px 1px 2px rgba(60, 64, 67, 0.3), 0px 1px 3px 1px rgba(60, 64, 67, 0.15);\n",
              "      fill: #174EA6;\n",
              "    }\n",
              "\n",
              "    [theme=dark] .colab-df-convert {\n",
              "      background-color: #3B4455;\n",
              "      fill: #D2E3FC;\n",
              "    }\n",
              "\n",
              "    [theme=dark] .colab-df-convert:hover {\n",
              "      background-color: #434B5C;\n",
              "      box-shadow: 0px 1px 3px 1px rgba(0, 0, 0, 0.15);\n",
              "      filter: drop-shadow(0px 1px 2px rgba(0, 0, 0, 0.3));\n",
              "      fill: #FFFFFF;\n",
              "    }\n",
              "  </style>\n",
              "\n",
              "      <script>\n",
              "        const buttonEl =\n",
              "          document.querySelector('#df-250d83aa-4b95-405d-8aa4-bfdb1de97423 button.colab-df-convert');\n",
              "        buttonEl.style.display =\n",
              "          google.colab.kernel.accessAllowed ? 'block' : 'none';\n",
              "\n",
              "        async function convertToInteractive(key) {\n",
              "          const element = document.querySelector('#df-250d83aa-4b95-405d-8aa4-bfdb1de97423');\n",
              "          const dataTable =\n",
              "            await google.colab.kernel.invokeFunction('convertToInteractive',\n",
              "                                                     [key], {});\n",
              "          if (!dataTable) return;\n",
              "\n",
              "          const docLinkHtml = 'Like what you see? Visit the ' +\n",
              "            '<a target=\"_blank\" href=https://colab.research.google.com/notebooks/data_table.ipynb>data table notebook</a>'\n",
              "            + ' to learn more about interactive tables.';\n",
              "          element.innerHTML = '';\n",
              "          dataTable['output_type'] = 'display_data';\n",
              "          await google.colab.output.renderOutput(dataTable, element);\n",
              "          const docLink = document.createElement('div');\n",
              "          docLink.innerHTML = docLinkHtml;\n",
              "          element.appendChild(docLink);\n",
              "        }\n",
              "      </script>\n",
              "    </div>\n",
              "  </div>\n",
              "  "
            ],
            "text/plain": [
              "            Date   theta_1   theta_2   theta_3   theta_4   theta_5    theta_6\n",
              "0     2017-01-01  0.756936 -1.467790  0.096136 -0.115306 -0.447908   0.902579\n",
              "1     2017-01-02  0.767089  0.185797 -1.428536 -0.086443 -0.954288   1.930909\n",
              "2     2017-01-03  0.404544  1.415887  0.443466  0.000200 -0.892351   2.449691\n",
              "3     2017-01-04  1.313957 -1.804471 -0.836986  0.011785 -1.012518   1.182085\n",
              "4     2017-01-05  0.209862  1.315868  0.140993 -0.046473 -1.417092   1.742433\n",
              "...          ...       ...       ...       ...       ...       ...        ...\n",
              "1090  2019-12-27 -1.520171 -1.128868  1.108275  0.936817  0.948045  11.755980\n",
              "1091  2019-12-28  0.338910 -3.178251  1.484579  1.051123  1.025288  11.397092\n",
              "1092  2019-12-29  0.263781  0.045725 -0.112476  0.823782  0.914111  10.918941\n",
              "1093  2019-12-30 -0.425098 -1.002701 -0.834294  0.850904  0.801977  11.140722\n",
              "1094  2019-12-31  0.848302  3.510521 -0.280626  0.967050  1.091803  11.989975\n",
              "\n",
              "[1095 rows x 7 columns]"
            ]
          },
          "metadata": {},
          "execution_count": 4
        }
      ]
    },
    {
      "cell_type": "markdown",
      "source": [
        "Plot all columns as time series."
      ],
      "metadata": {
        "id": "tAfc8L6Tv-OQ"
      }
    },
    {
      "cell_type": "code",
      "source": [
        "data.plot(subplots=True)\n",
        "plt.show()"
      ],
      "metadata": {
        "id": "hIs5qxLQvl_H",
        "colab": {
          "base_uri": "https://localhost:8080/",
          "height": 266
        },
        "outputId": "1887ae3f-5174-48ba-fdae-191c6fa94fd9"
      },
      "execution_count": null,
      "outputs": [
        {
          "output_type": "display_data",
          "data": {
            "image/png": "[encoded data removed]",
            "text/plain": [
              "<Figure size 432x288 with 6 Axes>"
            ]
          },
          "metadata": {
            "needs_background": "light"
          }
        }
      ]
    },
    {
      "cell_type": "markdown",
      "source": [
        "Plot histograms of all columns, verify bin size. Plot all on a single, faceted plot."
      ],
      "metadata": {
        "id": "g9K-m4Lnz_83"
      }
    },
    {
      "cell_type": "code",
      "source": [
        "data.hist()\n",
        "plt.tight_layout()\n",
        "plt.show()"
      ],
      "metadata": {
        "id": "HxZXqXjq2ArL",
        "colab": {
          "base_uri": "https://localhost:8080/",
          "height": 297
        },
        "outputId": "cbc6b7e6-7916-4b60-c8a1-6f7f7b521953"
      },
      "execution_count": null,
      "outputs": [
        {
          "output_type": "display_data",
          "data": {
            "image/png": "[encoded data removed]",
            "text/plain": [
              "<Figure size 432x288 with 6 Axes>"
            ]
          },
          "metadata": {
            "needs_background": "light"
          }
        }
      ]
    },
    {
      "cell_type": "markdown",
      "source": [
        "Plot KDE-s (Kernel Denisty Estimators) for all columns."
      ],
      "metadata": {
        "id": "W_5uwZPO0UFB"
      }
    },
    {
      "cell_type": "code",
      "source": [
        "data.plot.density(subplots=True)\n",
        "plt.show()"
      ],
      "metadata": {
        "colab": {
          "base_uri": "https://localhost:8080/",
          "height": 269
        },
        "id": "nQz3hkQq0UfM",
        "outputId": "a21ae296-c918-412b-f278-ca4677380770"
      },
      "execution_count": null,
      "outputs": [
        {
          "output_type": "display_data",
          "data": {
            "image/png": "[encoded data removed]",
            "text/plain": [
              "<Figure size 432x288 with 6 Axes>"
            ]
          },
          "metadata": {
            "needs_background": "light"
          }
        }
      ]
    },
    {
      "cell_type": "markdown",
      "source": [
        "Repeat analysis for columns $\\theta_1$-$\\theta_4$ in 2018."
      ],
      "metadata": {
        "id": "6s1L7bhI0XiG"
      }
    },
    {
      "cell_type": "code",
      "source": [
        "data_2 = pd.read_csv(\"/content/drive/MyDrive/Data_Analytics/Data1.csv\", index_col=0, parse_dates = True)\n",
        "data_2018 = data_2.loc['2018', 'theta_1':'theta_4']\n",
        "data_2018.plot(subplots=True)\n",
        "plt.show()"
      ],
      "metadata": {
        "colab": {
          "base_uri": "https://localhost:8080/",
          "height": 277
        },
        "id": "vPzhXap80tbu",
        "outputId": "7c50c6a3-aa11-4ba5-c015-5d210fa25b34"
      },
      "execution_count": null,
      "outputs": [
        {
          "output_type": "display_data",
          "data": {
            "image/png": "[encoded data removed]",
            "text/plain": [
              "<Figure size 432x288 with 4 Axes>"
            ]
          },
          "metadata": {
            "needs_background": "light"
          }
        }
      ]
    },
    {
      "cell_type": "code",
      "source": [
        "data_2018.plot.density(subplots=True)\n",
        "plt.show()"
      ],
      "metadata": {
        "colab": {
          "base_uri": "https://localhost:8080/",
          "height": 265
        },
        "id": "Q1980drN00im",
        "outputId": "9c290289-a70b-4d9b-a897-71adb46c1e1c"
      },
      "execution_count": null,
      "outputs": [
        {
          "output_type": "display_data",
          "data": {
            "image/png": "[encoded data removed]",
            "text/plain": [
              "<Figure size 432x288 with 4 Axes>"
            ]
          },
          "metadata": {
            "needs_background": "light"
          }
        }
      ]
    },
    {
      "cell_type": "markdown",
      "source": [
        "# **Excercise 2**\n",
        "### Installation of cmdstanpy"
      ],
      "metadata": {
        "id": "6o4BEeZzxR_8"
      }
    },
    {
      "cell_type": "code",
      "source": [
        " import cmdstanpy; cmdstanpy.install_cmdstan()\n",
        " from cmdstanpy import CmdStanModel"
      ],
      "metadata": {
        "id": "noJFpV8qxVz9",
        "colab": {
          "base_uri": "https://localhost:8080/"
        },
        "outputId": "5a7ba8e6-f9c1-4351-8a47-81346dc54b65"
      },
      "execution_count": 28,
      "outputs": [
        {
          "output_type": "stream",
          "name": "stderr",
          "text": [
            "INFO:cmdstanpy:CmdStan version: 2.29.1\n",
            "INFO:cmdstanpy:Install directory: /root/.cmdstanpy\n",
            "INFO:cmdstanpy:CmdStan version 2.29.1 already installed\n"
          ]
        }
      ]
    },
    {
      "cell_type": "markdown",
      "source": [
        "Create a dataset (as a dictionary) of F+L binary samples with F zeros and L ones, with F=number of letters in first name, L=number of letters in last name. Dictionary needs to consist of N=F+L, and y = list of samples."
      ],
      "metadata": {
        "id": "DWdErRHD2C9u"
      }
    },
    {
      "cell_type": "code",
      "source": [
        "# F = 3, L = 13\n",
        "dataset = {\n",
        "    \"N\": 16,\n",
        "    \"y\": [1, 1, 1, 1, 1, 1, 0, 1, 1, 0, 1, 0, 1, 1, 1, 1] }"
      ],
      "metadata": {
        "id": "FVzNvDFR2DYH"
      },
      "execution_count": 59,
      "outputs": []
    },
    {
      "cell_type": "code",
      "source": [
        "model = CmdStanModel(stan_file=\"/content/drive/MyDrive/Data_Analytics/bern_1.stan\")"
      ],
      "metadata": {
        "colab": {
          "base_uri": "https://localhost:8080/"
        },
        "id": "ldC1jqVfHpq0",
        "outputId": "a3646670-4063-45f6-8c55-35612fd31c4d"
      },
      "execution_count": 60,
      "outputs": [
        {
          "output_type": "stream",
          "name": "stderr",
          "text": [
            "INFO:cmdstanpy:compiling stan program, exe file: /content/drive/MyDrive/Data_Analytics/bern_1\n",
            "INFO:cmdstanpy:compiler options: stanc_options=None, cpp_options=None\n",
            "INFO:cmdstanpy:compiled model file: /content/drive/MyDrive/Data_Analytics/bern_1\n"
          ]
        }
      ]
    },
    {
      "cell_type": "code",
      "source": [
        "model"
      ],
      "metadata": {
        "colab": {
          "base_uri": "https://localhost:8080/"
        },
        "id": "af90rEBhIcLP",
        "outputId": "93707ef2-a009-4cea-b21b-12f4e85c26fa"
      },
      "execution_count": 61,
      "outputs": [
        {
          "output_type": "execute_result",
          "data": {
            "text/plain": [
              "CmdStanModel: name=bern_1\n",
              "\t stan_file=/content/drive/MyDrive/Data_Analytics/bern_1.stan\n",
              "\t exe_file=/content/drive/MyDrive/Data_Analytics/bern_1\n",
              "\t compiler_optons=stanc_options=None, cpp_options=None"
            ]
          },
          "metadata": {},
          "execution_count": 61
        }
      ]
    },
    {
      "cell_type": "code",
      "source": [
        "fit = model.sample(data=dataset, output_dir = \"/content/drive/MyDrive/Data_Analytics/outputs\")"
      ],
      "metadata": {
        "id": "l9E6GfRVIdlW"
      },
      "execution_count": null,
      "outputs": []
    },
    {
      "cell_type": "code",
      "source": [
        "#theta = model_fit.stan_variable('theta')\n",
        "draws_theta = fit.stan_variable(var='theta')"
      ],
      "metadata": {
        "id": "emaQsH_sKgEN"
      },
      "execution_count": null,
      "outputs": []
    },
    {
      "cell_type": "code",
      "source": [
        "model_fit = fit.summary()\n",
        "model_theta = model_fit.loc['theta']\n",
        "theta_5 = model_theta['5%']\n",
        "theta_95 = model_theta['95%']\n",
        "median = model_theta['50%']\n",
        "model_fit"
      ],
      "metadata": {
        "id": "V5zzAIJcKmUy"
      },
      "execution_count": null,
      "outputs": []
    }
  ]
}